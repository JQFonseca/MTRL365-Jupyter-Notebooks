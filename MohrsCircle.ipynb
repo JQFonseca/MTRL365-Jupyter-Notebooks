{
 "cells": [
  {
   "cell_type": "code",
   "execution_count": 1,
   "metadata": {},
   "outputs": [
    {
     "data": {
      "text/html": [
       "<script>\n",
       "code_show=true; \n",
       "function code_toggle() {\n",
       " if (code_show){\n",
       " $('div.input').hide();\n",
       " } else {\n",
       " $('div.input').show();\n",
       " }\n",
       " code_show = !code_show\n",
       "} \n",
       "$( document ).ready(code_toggle);\n",
       "</script>\n",
       "The raw code for this IPython notebook is by default hidden for easier reading.\n",
       "To toggle on/off the raw code, click <a href=\"javascript:code_toggle()\">here</a>."
      ],
      "text/plain": [
       "<IPython.core.display.HTML object>"
      ]
     },
     "execution_count": 1,
     "metadata": {},
     "output_type": "execute_result"
    }
   ],
   "source": [
    "from IPython.display import HTML\n",
    "from __future__ import print_function\n",
    "import numpy as np\n",
    "from bqplot import *\n",
    "from ipywidgets import widgets, interact, Label\n",
    "from traitlets import link\n",
    "from traitlets import HasTraits, Float\n",
    "import matplotlib.pyplot as plt\n",
    "from scipy.linalg import eigvalsh\n",
    "from IPython.display import display\n",
    "from matplotlib import rcParams\n",
    " \n",
    "rcParams['font.family'] = 'serif'\n",
    "rcParams['font.size'] = 16\n",
    "\n",
    "HTML('''<script>\n",
    "code_show=true; \n",
    "function code_toggle() {\n",
    " if (code_show){\n",
    " $('div.input').hide();\n",
    " } else {\n",
    " $('div.input').show();\n",
    " }\n",
    " code_show = !code_show\n",
    "} \n",
    "$( document ).ready(code_toggle);\n",
    "</script>\n",
    "The raw code for this IPython notebook is by default hidden for easier reading.\n",
    "To toggle on/off the raw code, click <a href=\"javascript:code_toggle()\">here</a>.''')\n",
    "\n"
   ]
  },
  {
   "cell_type": "markdown",
   "metadata": {},
   "source": [
    "# **Mohr's Circle**"
   ]
  },
  {
   "cell_type": "markdown",
   "metadata": {},
   "source": [
    "## Plane Stress"
   ]
  },
  {
   "cell_type": "markdown",
   "metadata": {},
   "source": [
    "Our basic equations for Mohr's Circle in 2D are:\n",
    "\n",
    "$\\sigma_{11} = \\frac{\\left(\\sigma_{xx} + \\sigma_{yy}\\right)}{2} + \\frac{\\left(\\sigma_{xx} - \\sigma_{yy}\\right)}{2}\\cos{\\left(2\\theta\\right)} + \\sigma_{xy}\\sin{\\left(2\\theta\\right)}$\n",
    "\n",
    "$\\sigma_{22} = \\frac{\\left(\\sigma_{xx} + \\sigma_{yy}\\right)}{2} - \\frac{\\left(\\sigma_{xx} - \\sigma_{yy}\\right)}{2}\\cos{\\left(2\\theta\\right)} - \\sigma_{xy}\\sin{\\left(2\\theta\\right)}$\n",
    "\n",
    "$\\sigma_{12} = -\\frac{\\left(\\sigma_{xx} - \\sigma_{yy}\\right)}{2}\\sin{\\left(2\\theta\\right)} - \\sigma_{xy}\\cos{\\left(2\\theta\\right)} $\n",
    "\n",
    "Where we are transforming our stresses from an {$x$,$y$,$z$} coordinate system to a {1,2,3} coordinate system that are $\\theta$ degrees apart.  When rotating from the original ({$x$,$y$,$z$}) to the final ({1,2,3}) coordinate system, a positive $\\theta$ means a counter-clockwise rotation."
   ]
  },
  {
   "cell_type": "markdown",
   "metadata": {},
   "source": [
    "We can also represent these equations as Mohr's circle.  The centre of our circle is always the average value of the normal stresses, regardless of the coordinate system being considered:\n",
    "\n",
    "Centre = $\\left[\\left(\\sigma_{xx}+\\sigma_{yy}\\right)/2,0\\right]$ = $\\left[\\left(\\sigma_{11}+\\sigma_{22}\\right)/2,0\\right]$\n",
    "\n",
    "And the radius of our circle is given by,\n",
    "\n",
    "Radius = $\\sqrt{\\left(\\sigma_{xx}-\\sigma_{yy}\\right)^2/4 + \\sigma_{xy}^2}$ = $\\sqrt{\\left(\\sigma_{11}-\\sigma_{22}\\right)^2/4 + \\sigma_{12}^2}$\n",
    "\n",
    "One can easily confirm this expression for the radius when the shear stress is equal to 0."
   ]
  },
  {
   "cell_type": "markdown",
   "metadata": {},
   "source": [
    "Try this out!  You can set a set of stresses in one ({x,y}) coordinate system, then see how these same stresses appear whe n"
   ]
  },
  {
   "cell_type": "code",
   "execution_count": 2,
   "metadata": {},
   "outputs": [
    {
     "data": {
      "application/vnd.jupyter.widget-view+json": {
       "model_id": "ef9bb0fa77854516990478507d7fc5c0",
       "version_major": 2,
       "version_minor": 0
      },
      "text/plain": [
       "A Jupyter Widget"
      ]
     },
     "metadata": {},
     "output_type": "display_data"
    }
   ],
   "source": [
    "from IPython.display import display\n",
    "import numpy as np\n",
    "from ipywidgets import *\n",
    "import matplotlib.pyplot as plt\n",
    "\n",
    "\n",
    "def plotcoords(S11,S22,S12,th):  \n",
    "    th = th*np.pi/180.\n",
    "    plt.figure()\n",
    "    plt.axis('image')\n",
    "    ax = plt.gca()\n",
    "    \n",
    "    s11 = S11/(np.max([np.abs(S11),np.abs(S22),np.abs(S12)])*1.1)\n",
    "    s22 = S22/(np.max([np.abs(S11),np.abs(S22),np.abs(S12)])*1.1)\n",
    "    s12 = S12/(np.max([np.abs(S11),np.abs(S22),np.abs(S12)])*1.1)\n",
    "    \n",
    "    v1= np.matrix([[0],[1]])\n",
    "    v2= np.matrix([[1],[0]])\n",
    "    \n",
    "    R = np.matrix([[np.cos(0),np.sin(0)],[-np.sin(0),np.cos(0)]])\n",
    "    vv1 = np.dot(R,v1)\n",
    "    vv2 = np.dot(R,v2)\n",
    "\n",
    "    midx = (vv1[0,0] + vv2[0,0])/2.-0.5\n",
    "    midy = (vv1[1,0] + vv2[1,0])/2.-0.5\n",
    "    \n",
    "    ax.arrow(-midx+0,-midy+0,vv1[0,0],vv1[1,0],head_width=0.0, head_length=0., fc='k', ec='k')\n",
    "    ax.arrow(-midx+vv2[0,0],-midy+vv2[1,0],vv1[0,0],vv1[1,0],head_width=0.0, head_length=0., fc='k', ec='k')\n",
    "    ax.arrow(-midx+0,-midy+0,vv2[0,0],vv2[1,0],head_width=0.0, head_length=0., fc='k', ec='k')\n",
    "    ax.arrow(-midx+vv1[0,0],-midy+vv1[1,0],vv2[0,0],vv2[1,0],head_width=0.0, head_length=0., fc='k', ec='k')\n",
    "    \n",
    "    if s22 < 0:\n",
    "        ax.arrow(0.5, 1.0-s22+0.1, 0, s22, head_width=0.05, head_length=0.1, fc='k', ec='k')  # Top\n",
    "        ax.arrow(0.5, s22, 0, -s22-0.1, head_width=0.05, head_length=0.1, fc='k', ec='k')   # Bottom\n",
    "    else:  \n",
    "        ax.arrow(0.5, 1.0, 0, s22, head_width=0.05, head_length=0.1, fc='k', ec='k')  # Top\n",
    "        ax.arrow(0.5, 0, 0, -s22, head_width=0.05, head_length=0.1, fc='k', ec='k')   # Bottom\n",
    "    \n",
    "    if s11 < 0:\n",
    "        ax.arrow(s11-0.5, 0.5, -s11+0.4, 0, head_width=0.05, head_length=0.1, fc='k', ec='k')\n",
    "        ax.arrow(1-s11+0.5, 0.5, s11-0.4, 0, head_width=0.05, head_length=0.1, fc='k', ec='k')\n",
    "    else:\n",
    "        ax.arrow(0, 0.5, -s11, 0, head_width=0.05, head_length=0.1, fc='k', ec='k')\n",
    "        ax.arrow(1., 0.5, s11, 0, head_width=0.05, head_length=0.1, fc='k', ec='k')\n",
    "\n",
    "    if s12 != 0:\n",
    "        ax.arrow(1.05, 0.5-s12/2., 0., s12, head_width=0.05, head_length=0.1, fc='k', ec='k')\n",
    "        ax.arrow(-0.05, 0.5+s12/2., 0., -s12, head_width=0.05, head_length=0.1, fc='k', ec='k')\n",
    "        ax.arrow(0.5-s12/2., 1.1, s12, 0., head_width=0.05, head_length=0.1, fc='k', ec='k')\n",
    "        ax.arrow(0.5+s12/2., -0.1, -s12, 0., head_width=0.05, head_length=0.1, fc='k', ec='k')\n",
    "\n",
    "    ax.arrow(1.8,1.8,0,0.3,head_width=0.05, head_length=0.1, fc='k', ec='k',lw=1,alpha=1)\n",
    "    ax.arrow(1.8,1.8,0.3,0,head_width=0.05, head_length=0.1, fc='k', ec='k',lw=1,alpha=1)\n",
    "    plt.text(1.8+0.4, 1.8, '$x$',color='k')\n",
    "    plt.text(1.8, 1.8+0.4, '$y$',color='k')\n",
    "    \n",
    "    if th !=0:\n",
    "        #ax.arrow((vv1[0,0]-2.*midx)/2.+s11*vv1[1,0], (vv1[1,0]-2.*midy)/2.-s11*vv1[0,0], -s11*vv1[1,0]*0.95, s11*vv1[0,0]*0.95, head_width=0.05, head_length=0.1, fc='r', ec='r')\n",
    "        R = np.matrix([[np.cos(th),-np.sin(th)],[np.sin(th),np.cos(th)]])\n",
    "        S = np.matrix([[S11,S12],[S12,S22]])\n",
    "        Snew = np.dot(np.linalg.inv(R),np.dot(S,R))\n",
    "        S11 = Snew[0,0]\n",
    "        S22 = Snew[1,1]\n",
    "        S12 = Snew[0,1]\n",
    "        \n",
    "        vv1 = np.dot(R,v1)\n",
    "        vv2 = np.dot(R,v2)\n",
    "        \n",
    "        s11 = S11/(np.max([np.abs(S11),np.abs(S22),np.abs(S12)])*1.1)\n",
    "        s22 = S22/(np.max([np.abs(S11),np.abs(S22),np.abs(S12)])*1.1)\n",
    "        s12 = S12/(np.max([np.abs(S11),np.abs(S22),np.abs(S12)])*1.1)\n",
    "        \n",
    "        midx = (vv1[0,0] + vv2[0,0])/2.-0.5\n",
    "        midy = (vv1[1,0] + vv2[1,0])/2.-0.5\n",
    "    \n",
    "\n",
    "        ax.arrow(-midx+0,-midy+0,vv1[0,0],vv1[1,0],head_width=0.0, head_length=0., fc='r', ec='r',lw=3,alpha=0.3)\n",
    "        ax.arrow(-midx+vv2[0,0],-midy+vv2[1,0],vv1[0,0],vv1[1,0],head_width=0.0, head_length=0., fc='r', ec='r',lw=3,alpha=0.3)\n",
    "        ax.arrow(-midx+0,-midy+0,vv2[0,0],vv2[1,0],head_width=0.0, head_length=0., fc='r', ec='r',lw=3,alpha=0.3)\n",
    "        ax.arrow(-midx+vv1[0,0],-midy+vv1[1,0],vv2[0,0],vv2[1,0],head_width=0.0, head_length=0., fc='r', ec='r',lw=3,alpha=0.3)\n",
    "    \n",
    "        if (s11 > 0.1)|(s11 < -0.1):\n",
    "            if s11 < 0:\n",
    "                ax.arrow((vv1[0,0]-2.*midx)/2.+s11*vv1[1,0], (vv1[1,0]-2.*midy)/2.-s11*vv1[0,0], -s11*vv1[1,0]*0.9, s11*vv1[0,0]*0.9, head_width=0.1, head_length=0.15, fc='r', ec='r',lw=3,alpha=0.7)\n",
    "                ax.arrow((vv1[0,0]+2.*vv2[0,0]-2.*midx)/2.-s11*vv1[1,0], (vv1[1,0]+2.*vv2[1,0]-2.*midy)/2.+s11*vv1[0,0], s11*vv1[1,0]*0.9, -s11*vv1[0,0]*0.9, head_width=0.1, head_length=0.15, fc='r', ec='r',lw=3,alpha=0.7)\n",
    "            else:\n",
    "                ax.arrow((vv1[0,0]-2.*midx)/2., (vv1[1,0]-2.*midy)/2., -s11*vv1[1,0]*0.9, s11*vv1[0,0]*0.9, head_width=0.1, head_length=0.15, fc='r', ec='r',lw=3,alpha=0.5)\n",
    "                ax.arrow((vv1[0,0]+2.*vv2[0,0]-2.*midx)/2., (vv1[1,0]+2.*vv2[1,0]-2.*midy)/2., s11*vv1[1,0]*0.9, -s11*vv1[0,0]*0.9, head_width=0.1, head_length=0.15, fc='r', ec='r',lw=3,alpha=0.5)\n",
    "        if (s22 > 0.1)|(s22 < -0.1):   \n",
    "            if s22 < 0:\n",
    "                ax.arrow((vv2[0,0]-2.*midx)/2.-s22*vv2[1,0], (vv2[1,0]-2.*midy)/2.+s22*vv2[0,0], s22*vv2[1,0]*0.9, -s22*vv2[0,0]*0.9, head_width=0.1, head_length=0.15, fc='r', ec='r',lw=3,alpha=0.7)\n",
    "                ax.arrow((vv2[0,0]+2.*vv1[0,0]-2.*midx)/2.+s22*vv2[1,0], (vv2[1,0]+2.*vv1[1,0]-2.*midy)/2.-s22*vv2[0,0], -s22*vv2[1,0]*0.9, s22*vv2[0,0]*0.9, head_width=0.1, head_length=0.15, fc='r', ec='r',lw=3,alpha=0.7)\n",
    "            else:\n",
    "                ax.arrow((vv2[0,0]-2.*midx)/2., (vv2[1,0]-2.*midy)/2., s22*vv2[1,0]*0.9, -s22*vv2[0,0]*0.9, head_width=0.1, head_length=0.15, fc='r', ec='r',lw=3,alpha=0.5)\n",
    "                ax.arrow((vv2[0,0]+2.*vv1[0,0]-2.*midx)/2., (vv2[1,0]+2.*vv1[1,0]-2.*midy)/2., -s22*vv2[1,0]*0.9, s22*vv2[0,0]*0.9, head_width=0.1, head_length=0.15, fc='r', ec='r',lw=3,alpha=0.5)\n",
    "\n",
    "        if s12 != 0:\n",
    "            ax.arrow((-midx+vv1[0,0]/2.+vv1[0,0]*s12/2.),(-midy+vv1[1,0]/2.+vv1[1,0]*s12/2.),-vv1[0,0]*s12*0.95,-vv1[1,0]*s12*0.95,head_width=0.1, head_length=0.15, fc='r', ec='r',lw=3,alpha=0.5)\n",
    "            ax.arrow((-midx+vv2[0,0]/2.+vv2[0,0]*s12/2.),(-midy+vv2[1,0]/2.+vv2[1,0]*s12/2.),-vv2[0,0]*s12*0.95,-vv2[1,0]*s12*0.95,head_width=0.1, head_length=0.15, fc='r', ec='r',lw=3,alpha=0.5)\n",
    "            ax.arrow((-midx+vv2[0,0]+vv1[0,0]/2.-vv1[0,0]*s12/2.),(-midy+vv2[1,0]+vv1[1,0]/2.-vv1[1,0]*s12/2.),vv1[0,0]*s12*0.95,vv1[1,0]*s12*0.95,head_width=0.1, head_length=0.15, fc='r', ec='r',lw=3,alpha=0.5)\n",
    "            ax.arrow((-midx+vv1[0,0]+vv2[0,0]/2.-vv2[0,0]*s12/2.),(-midy+vv1[1,0]+vv2[1,0]/2.-vv2[1,0]*s12/2.),vv2[0,0]*s12*0.95,vv2[1,0]*s12*0.95,head_width=0.1, head_length=0.15, fc='r', ec='r',lw=3,alpha=0.5)\n",
    "\n",
    "        ax.arrow(1.8,1.8,vv1[0,0]*0.2,vv1[1,0]*0.2,head_width=0.1, head_length=0.15, fc='r', ec='r',lw=1,alpha=1)\n",
    "        ax.arrow(1.8,1.8,vv2[0,0]*0.2,vv2[1,0]*0.2,head_width=0.1, head_length=0.15, fc='r', ec='r',lw=1,alpha=1)\n",
    "        plt.text(1.8+vv1[0,0]*0.4, 1.8+vv1[1,0]*0.4, '2',color='r')\n",
    "        plt.text(1.8+vv2[0,0]*0.4, 1.8+vv2[1,0]*0.4, '1',color='r')\n",
    "    \n",
    "    \n",
    "        txtfont = {'family': 'serif','color':  'red','weight': 'normal','size': 10}\n",
    "        plt.text(1.2,-1.5, '$\\sigma_{11}=$ %0.1f\\n $\\sigma_{22}=$ %0.1f\\n $\\sigma_{12}=$ %0.1f\\n' % (S11, S22,S12), fontdict=txtfont)\n",
    "    \n",
    "    \n",
    "    ax.set_xlim(-1.5, 2.5)\n",
    "    ax.set_ylim(-1.5, 2.5)\n",
    "    plt.axis('off')\n",
    "    \n",
    "    \n",
    "def plotMohr2D(S11,S22,S12,th):\n",
    "\n",
    "    center = [(S11 + S22)/2.0, 0.0]\n",
    "    radius = np.sqrt((S11 - S22)**2/4.0 + S12**2)\n",
    "    Smin = center[0] - radius\n",
    "    Smax = center[0] + radius\n",
    "    plt.figure()\n",
    "    circ = plt.Circle((center[0],0), radius, facecolor='green',alpha=0.3, lw=3,edgecolor='w')\n",
    "    circ2 = plt.Circle((center[0],0), radius, facecolor='none',alpha=1., lw=3,edgecolor='k')\n",
    "    plt.axis('image')\n",
    "    ax = plt.gca() \n",
    "    ax.add_artist(circ),center,radius\n",
    "    ax.add_artist(circ2),center,radius\n",
    "    ax.set_xlim(Smin - .2*radius, Smax + .2*radius)\n",
    "    ax.set_ylim(-1.2*radius, 1.2*radius)\n",
    "    \n",
    "    if th == 0:\n",
    "        ax.plot([S22, S11], [S12, -S12], 'ko')\n",
    "        ax.plot([S22, S11], [S12, -S12], 'k')\n",
    "        ax.plot(center[0], center[1], 'o', mfc='w')\n",
    "        plt.text(S22 + 0.1*radius, S12, '$x$')\n",
    "        plt.text(S11 + 0.1*radius, -S12, '$y$')\n",
    "    else:    \n",
    "        th = th*np.pi/180.\n",
    "        S = np.matrix([[S11, S12],[S12,S22]])\n",
    "        R = np.matrix([[np.cos(th),-np.sin(th)],[np.sin(th),np.cos(th)]])\n",
    "        Snew = np.dot(np.linalg.inv(R),np.dot(S,R))\n",
    "        ax.plot([S22, S11], [S12, -S12], 'ko')\n",
    "        ax.plot([S22, S11], [S12, -S12], 'k')\n",
    "        plt.text(S22 + 0.1*radius, S12, '$x$')\n",
    "        plt.text(S11 + 0.1*radius, -S12, '$y$')\n",
    "        S11 = Snew[0,0]\n",
    "        S22 = Snew[1,1]\n",
    "        S12 = Snew[0,1]\n",
    "        ax.plot([S22, S11], [S12, -S12], 'ro')\n",
    "        ax.plot([S22, S11], [S12, -S12], 'r')\n",
    "        plt.text(S22 + 0.1*radius, S12, '1')\n",
    "        plt.text(S11 + 0.1*radius, -S12, '2')\n",
    "        \n",
    "    plt.plot([-1000,1000],[0,0],'k')\n",
    "    plt.plot([0,0],[-1000,1000],'k')\n",
    "    plt.xlabel(r\"$\\sigma$\", size=18)\n",
    "    plt.ylabel(r\"$\\tau$\", size=18)\n",
    "\n",
    "w = dict(S11 = BoundedFloatText(-100, min=-1000, max=1000, step=1., description='$\\sigma_{xx}$:',layout=Layout(width='99%')), \n",
    "         S22 = BoundedFloatText(100, min=-1000, max=1000, step=1., description='$\\sigma_{yy}$:',layout=Layout(width='99%')),\n",
    "         S12 = BoundedFloatText(0, min=-1000, max=1000, step=1., description='$\\sigma_{xy}$:',layout=Layout(width='99%')),\n",
    "         th = BoundedFloatText(0, min=-180, max=180, step=1., description='$\\\\theta$ (Degrees):',layout=Layout(width='99%')))\n",
    "\n",
    "\n",
    "output = interactive_output(plotMohr2D, w)\n",
    "output2 = interactive_output(plotcoords, w)\n",
    "\n",
    "#box = HBox([VBox([Label('Input stresses in {A,B} coordinate system'),*w.values()]),output,output2])\n",
    "box = HBox([VBox([*w.values()]), output,output2],border='solid 2px')\n",
    "display(box)\n",
    "\n",
    "\n"
   ]
  },
  {
   "cell_type": "markdown",
   "metadata": {},
   "source": [
    "Now, we can calculate $\\sigma_{11}$, $\\sigma_{22}$ and $\\sigma_{12}$ for the values of $\\sigma_{xx}$, $\\sigma_{yy}$, $\\sigma_{xy}$ and $\\theta$ given above, using the analytical equations (given above):"
   ]
  },
  {
   "cell_type": "code",
   "execution_count": 3,
   "metadata": {
    "scrolled": true
   },
   "outputs": [
    {
     "data": {
      "application/vnd.jupyter.widget-view+json": {
       "model_id": "5df4d9adec5f4786978b0b79492ff184",
       "version_major": 2,
       "version_minor": 0
      },
      "text/plain": [
       "A Jupyter Widget"
      ]
     },
     "metadata": {},
     "output_type": "display_data"
    }
   ],
   "source": [
    "def f(Sxx,Syy,Sxy,th):\n",
    "    TH = th*np.pi/180\n",
    "    S11 = (Sxx+Syy)/2.+(Sxx-Syy)/2.*np.cos(2*TH)-Sxy*np.sin(2*TH)\n",
    "    S22 = (Sxx+Syy)/2.-(Sxx-Syy)/2.*np.cos(2*TH)-Sxy*np.sin(2*TH)\n",
    "    S12 = -(Sxx-Syy)/2.*np.sin(2*TH)-Sxy*np.cos(2*TH)\n",
    "    plt.figure()\n",
    "    plt.axis('image')\n",
    "    ax = plt.gca() \n",
    "    \n",
    "    txtfont = {'family': 'serif','color':  'k','weight': 'normal','size': 18}\n",
    "    plt.text(-0.06,0.04,'Calculation of Stresses in {1,2} Coordinate System from those given in {x,y} Coordinate System:', fontdict=txtfont)\n",
    "    txtfont = {'family': 'serif','color':  'k','weight': 'normal','size': 16}\n",
    "    plt.text(-0.02,0.01, '$\\\\sigma_{11} = \\\\left[\\\\left(%0.1f\\\\right) + \\\\left(%0.1f\\\\right) \\\\right]/2 + \\\\left[\\\\left(%0.1f\\\\right) - \\\\left(%0.1f\\\\right)\\\\right]/2*\\\\cos{\\\\left(2 \\\\times %0.1f\\\\right)} + \\\\left(%0.1f\\\\right)\\\\sin{\\\\left(2 \\\\times %0.1f\\\\right)} = %0.1f$ \\n' %(Sxx,Syy,Sxx,Syy,th,Sxy,th,S11), fontdict=txtfont)\n",
    "    plt.text(-0.02,0.0,'$\\\\sigma_{22} = \\\\left[\\\\left(%0.1f\\\\right) + \\\\left(%0.1f\\\\right) \\\\right]/2 - \\\\left[\\\\left(%0.1f\\\\right) - \\\\left(%0.1f\\\\right)\\\\right]/2*\\\\cos{\\\\left(2 \\\\times %0.1f\\\\right)} - \\\\left(%0.1f\\\\right)\\\\sin{\\\\left(2 \\\\times %0.1f\\\\right)} = %0.1f$ \\n' %(Sxx,Syy,Sxx,Syy,th,Sxy,th,S22), fontdict=txtfont) \n",
    "    plt.text(-0.02,-0.01,'$\\\\sigma_{12} = -\\\\left[\\\\left(%0.1f\\\\right) - \\\\left(%0.1f\\\\right) \\\\right]/2\\\\sin{\\\\left(2\\\\times %0.1f \\\\right)} - %0.1f\\cos{\\left(2\\\\times %0.1f \\\\right)} = %0.1f $ \\n' %(Sxx,Syy, th ,Sxy,th, S12))\n",
    "    plt.axis('off')\n",
    "    \n",
    "    return(S11,S22,S12)\n",
    "\n",
    "#out=interact(f, Sxx=w['S11'], Syy=w['S22'], Sxy=w['S12'],th=w['th']);\n",
    "out = widgets.interactive_output(f, {'Sxx': w['S11'], 'Syy': w['S22'], 'Sxy': w['S12'], 'th': w['th']})\n",
    "display(out)\n"
   ]
  },
  {
   "cell_type": "markdown",
   "metadata": {},
   "source": [
    "which you should find is the same as that given in the graphs above!"
   ]
  },
  {
   "cell_type": "markdown",
   "metadata": {
    "collapsed": true
   },
   "source": [
    "# Plane Strain"
   ]
  },
  {
   "cell_type": "markdown",
   "metadata": {},
   "source": [
    "In the case of plane strain everything is just as it is above but with one small modification...  We have to know whether we should use the engineering definition of shear strain or the 'tensoral' version of shear strain.  As a reminder.  Shear strains are changes in angles between lines.  Lets imagine the situation shown below:"
   ]
  },
  {
   "cell_type": "code",
   "execution_count": 4,
   "metadata": {},
   "outputs": [
    {
     "data": {
      "text/plain": [
       "(-1.0, 6.5, -1.0, 6.5)"
      ]
     },
     "execution_count": 4,
     "metadata": {},
     "output_type": "execute_result"
    },
    {
     "data": {
      "image/png": "[encoded data removed]",
      "text/plain": [
       "<matplotlib.figure.Figure at 0x7f28bd694c18>"
      ]
     },
     "metadata": {},
     "output_type": "display_data"
    }
   ],
   "source": [
    "from matplotlib.patches import Arc\n",
    "\n",
    "plt.figure()\n",
    "plt.axis('image')\n",
    "ax = plt.gca() \n",
    "ax.arrow(0,0,0,5,head_width=0.1, head_length=0.15, fc='k', ec='k',lw=1,alpha=1)\n",
    "ax.arrow(0,0,5,0,head_width=0.1, head_length=0.15, fc='k', ec='k',lw=1,alpha=1)\n",
    "ax.set_xlim(-1,6.5)\n",
    "ax.set_ylim(-1,6.5)\n",
    "txtfont = {'family': 'serif','color':  'k','weight': 'normal','size': 10}\n",
    "plt.text(-0.1,5.5, '$y$', fontdict=txtfont)\n",
    "plt.text(5.3,-0.05, '$x$', fontdict=txtfont)\n",
    "\n",
    "ax.arrow(0,0,0,3.5,head_width=0.0, head_length=0.0, fc='r', ec='k',lw=3,alpha=0.3)\n",
    "ax.arrow(0,0,3.5,0,head_width=0.0, head_length=0.0, fc='r', ec='k',lw=3,alpha=0.3)\n",
    "ax.arrow(3.5,0,0,3.5,head_width=0.0, head_length=0.0, fc='r', ec='k',lw=3,alpha=0.3)\n",
    "ax.arrow(0,3.5,3.5,0,head_width=0.0, head_length=0.0, fc='r', ec='k',lw=3,alpha=0.3)\n",
    "\n",
    "ax.arrow(0,0,1,4,head_width=0.0, head_length=0.0, fc='r', ec='r',lw=2,alpha=1)\n",
    "ax.arrow(0,0,4,2,head_width=0.0, head_length=0.0, fc='r', ec='r',lw=2,alpha=1)\n",
    "ax.arrow(4,2,1,4,head_width=0.0, head_length=0.0, fc='r', ec='r',lw=2,alpha=1)\n",
    "ax.arrow(1,4,4,2,head_width=0.0, head_length=0.0, fc='r', ec='r',lw=2,alpha=1)\n",
    "\n",
    "txtfont = {'family': 'serif','color':  'b','weight': 'normal','size': 12}\n",
    "ax.add_patch(Arc((0, 0), 2, 2, angle=0.0, theta1=0.0, theta2=25.0, edgecolor='b'))\n",
    "ax.add_patch(Arc((0, 0), 2, 2, angle=75.0, theta1=0.0, theta2=15.0, edgecolor='b'))\n",
    "plt.text(0.05,1.5, '$\\\\alpha$', fontdict=txtfont)\n",
    "plt.text(1.25,0.25, '$\\\\beta$', fontdict=txtfont)\n",
    "\n",
    "plt.axis('off')"
   ]
  },
  {
   "cell_type": "markdown",
   "metadata": {},
   "source": [
    "In the case above the light grey square has been deformed into the red parallelogram by shear. In the engineering definition of shear strain ($\\gamma_{xy}$) the imposed shear strain is the total change in angle $\\gamma_{xy} = \\alpha + \\beta$\n",
    "\n",
    "There is, however, a bit of a problem with this as you can see that the box has both sheared *and* rotated.  By the deinfition given above the following graph would be an equivalent description of the deformation of the body:"
   ]
  },
  {
   "cell_type": "code",
   "execution_count": 5,
   "metadata": {},
   "outputs": [
    {
     "data": {
      "text/plain": [
       "(-1.0, 6.5, -1.0, 6.5)"
      ]
     },
     "execution_count": 5,
     "metadata": {},
     "output_type": "execute_result"
    },
    {
     "data": {
      "image/png": "[encoded data removed]",
      "text/plain": [
       "<matplotlib.figure.Figure at 0x7f28b7bffb38>"
      ]
     },
     "metadata": {},
     "output_type": "display_data"
    }
   ],
   "source": [
    "plt.figure()\n",
    "plt.axis('image')\n",
    "ax = plt.gca() \n",
    "ax.arrow(0,0,0,5,head_width=0.1, head_length=0.15, fc='k', ec='k',lw=1,alpha=1)\n",
    "ax.arrow(0,0,5,0,head_width=0.1, head_length=0.15, fc='k', ec='k',lw=1,alpha=1)\n",
    "ax.set_xlim(-1,6.5)\n",
    "ax.set_ylim(-1,6.5)\n",
    "txtfont = {'family': 'serif','color':  'k','weight': 'normal','size': 10}\n",
    "plt.text(-0.1,5.5, '$y$', fontdict=txtfont)\n",
    "plt.text(5.3,-0.05, '$x$', fontdict=txtfont)\n",
    "\n",
    "ax.arrow(0,0,2,3,head_width=0.0, head_length=0.0, fc='r', ec='r',lw=2,alpha=1)\n",
    "ax.arrow(0,0,4,0,head_width=0.0, head_length=0.0, fc='r', ec='r',lw=2,alpha=1)\n",
    "ax.arrow(2,3,4,0,head_width=0.0, head_length=0.0, fc='r', ec='r',lw=2,alpha=1)\n",
    "ax.arrow(4,0,2,3,head_width=0.0, head_length=0.0, fc='r', ec='r',lw=2,alpha=1)\n",
    "\n",
    "txtfont = {'family': 'serif','color':  'b','weight': 'normal','size': 12}\n",
    "ax.add_patch(Arc((0, 0), 2, 2, angle=60.0, theta1=0.0, theta2=30.0, edgecolor='b'))\n",
    "plt.text(0.,1.75, '$\\\\alpha + \\\\beta$', fontdict=txtfont)\n",
    "\n",
    "plt.axis('off')"
   ]
  },
  {
   "cell_type": "markdown",
   "metadata": {},
   "source": [
    "In this sense, the actual shape change described by the engineering shear strain is not really unique - there are multiple ways of representing the shear strain just be changing how the angles $\\alpha$ and $\\beta$ are distributed.  This is because the engineering definition of shear strain is ambiguous about rotation.\n",
    "\n",
    "The mathematical or 'tensoral' definition of shear strain removes this ambiguity by defining (in general) strains (in the limit of small strains) as:\n",
    "\n",
    "$\\epsilon_{ij} = \\frac{1}{2}\\left(\\frac{\\partial u_i}{\\partial x_j} + \\frac{\\partial u_j}{\\partial x_i}\\right)$\n",
    "\n",
    "Where $i$ and $j$ represent the directions (here $x$ and $y$) and $u_i$ represents the displacement of a point in the $i$ direction.  In the case of normal strains, there is no difference between the mathematical and engineering definitions.  However, in the case of shear strains there *is* an important difference. \n",
    "\n",
    "In the case of shear strain the mathematical definition of shear strain becomes:\n",
    "\n",
    "$\\epsilon_{xy} = \\frac{1}{2}\\left(\\frac{\\partial u_x}{\\partial y} + \\frac{\\partial u_y}{\\partial x}\\right)$\n",
    "\n",
    "Let's look at the case given above; what is $\\partial u_x/\\partial y$?  Let's approximate this as $\\Delta u_x / \\Delta y$  "
   ]
  },
  {
   "cell_type": "code",
   "execution_count": 6,
   "metadata": {},
   "outputs": [
    {
     "data": {
      "text/plain": [
       "(-1.0, 6.5, -1.0, 6.5)"
      ]
     },
     "execution_count": 6,
     "metadata": {},
     "output_type": "execute_result"
    },
    {
     "data": {
      "image/png": "[encoded data removed]",
      "text/plain": [
       "<matplotlib.figure.Figure at 0x7f28b7b96400>"
      ]
     },
     "metadata": {},
     "output_type": "display_data"
    }
   ],
   "source": [
    "plt.figure()\n",
    "plt.axis('image')\n",
    "ax = plt.gca() \n",
    "ax.arrow(0,0,0,5,head_width=0.1, head_length=0.15, fc='k', ec='k',lw=1,alpha=1)\n",
    "ax.arrow(0,0,5,0,head_width=0.1, head_length=0.15, fc='k', ec='k',lw=1,alpha=1)\n",
    "ax.set_xlim(-1,6.5)\n",
    "ax.set_ylim(-1,6.5)\n",
    "txtfont = {'family': 'serif','color':  'k','weight': 'normal','size': 10}\n",
    "plt.text(-0.1,5.5, '$y$', fontdict=txtfont)\n",
    "plt.text(5.3,-0.05, '$x$', fontdict=txtfont)\n",
    "\n",
    "ax.arrow(0,0,0,3,head_width=0.0, head_length=0.0, fc='k', ec='k',lw=3,alpha=0.3)\n",
    "ax.arrow(0,0,3,0,head_width=0.0, head_length=0.0, fc='k', ec='k',lw=3,alpha=0.3)\n",
    "ax.arrow(0,3,3,0,head_width=0.0, head_length=0.0, fc='k', ec='k',lw=3,alpha=0.3)\n",
    "ax.arrow(3,0,0,3,head_width=0.0, head_length=0.0, fc='k', ec='k',lw=3,alpha=0.3)\n",
    "\n",
    "ax.arrow(0,0,2,3,head_width=0.0, head_length=0.0, fc='r', ec='r',lw=2,alpha=1)\n",
    "ax.arrow(0,0,4,0,head_width=0.0, head_length=0.0, fc='r', ec='r',lw=2,alpha=1)\n",
    "ax.arrow(2,3,4,0,head_width=0.0, head_length=0.0, fc='r', ec='r',lw=2,alpha=1)\n",
    "ax.arrow(4,0,2,3,head_width=0.0, head_length=0.0, fc='r', ec='r',lw=2,alpha=1)\n",
    "\n",
    "ax.plot([0, 2,0], [3, 3,0], 'ko')\n",
    "ax.arrow(-0.2,0,0,2.8,head_width=0.1, head_length=0.15, fc='g', ec='g',lw=2,alpha=1)\n",
    "ax.arrow(-0.2,3,0,-2.8,head_width=0.1, head_length=0.15, fc='g', ec='g',lw=2,alpha=1)\n",
    "ax.arrow(0,3.2,1.8,0,head_width=0.1, head_length=0.15, fc='g', ec='g',lw=2,alpha=1)\n",
    "ax.arrow(2,3.2,-1.8,0,head_width=0.1, head_length=0.15, fc='g', ec='g',lw=2,alpha=1)\n",
    "\n",
    "\n",
    "\n",
    "txtfont = {'family': 'serif','color':  'b','weight': 'normal','size': 12}\n",
    "ax.add_patch(Arc((0, 0), 2, 2, angle=60.0, theta1=0.0, theta2=30.0, edgecolor='b'))\n",
    "plt.text(0.,1.75, '$\\\\alpha + \\\\beta$', fontdict=txtfont)\n",
    "\n",
    "txtfont = {'family': 'serif','color':  'g','weight': 'normal','size': 12}\n",
    "plt.text(0.5,3.5, '$\\Delta u_x$', fontdict=txtfont)\n",
    "plt.text(-0.75,1.5, '$\\Delta y$', fontdict=txtfont,rotation=90)\n",
    "\n",
    "plt.axis('off')"
   ]
  },
  {
   "cell_type": "markdown",
   "metadata": {},
   "source": [
    "So we see that in this case $\\partial u_x/\\partial y \\approx \\Delta u_x / \\Delta y = \\alpha + \\beta$ is the engineering shear strain.  In comparison the mathematical definition of shear strain would be exactly half this value.  Physically, what does this mean? In the mathematical definition, the factor of 1/2 signifies that we are implicitly assuming that we are going to take the angles $\\alpha$ and $\\beta$ to be equal and equal to half the value of the engineering shear strain - i.e. $\\epsilon_{xy} = \\gamma_{xy}/2$.  Physically, then the same level of deformation as shown above would appear as below in the mathematical definition of shear strain.  Note that this is the same overall deformation but by explicitly assuming the same value for $\\alpha$ and $\\beta$ we remove any ambiguity about rotation, thereby removing rotation from our definition of strain!   "
   ]
  },
  {
   "cell_type": "code",
   "execution_count": 7,
   "metadata": {},
   "outputs": [
    {
     "data": {
      "text/plain": [
       "(-1.0, 6.5, -1.0, 6.5)"
      ]
     },
     "execution_count": 7,
     "metadata": {},
     "output_type": "execute_result"
    },
    {
     "data": {
      "image/png": "[encoded data removed]",
      "text/plain": [
       "<matplotlib.figure.Figure at 0x7f28b7bf9a90>"
      ]
     },
     "metadata": {},
     "output_type": "display_data"
    }
   ],
   "source": [
    "plt.figure()\n",
    "plt.axis('image')\n",
    "ax = plt.gca() \n",
    "ax.arrow(0,0,0,5,head_width=0.1, head_length=0.15, fc='k', ec='k',lw=1,alpha=1)\n",
    "ax.arrow(0,0,5,0,head_width=0.1, head_length=0.15, fc='k', ec='k',lw=1,alpha=1)\n",
    "ax.set_xlim(-1,6.5)\n",
    "ax.set_ylim(-1,6.5)\n",
    "txtfont = {'family': 'serif','color':  'k','weight': 'normal','size': 10}\n",
    "plt.text(-0.1,5.5, '$y$', fontdict=txtfont)\n",
    "plt.text(5.3,-0.05, '$x$', fontdict=txtfont)\n",
    "\n",
    "ax.arrow(0,0,0,3,head_width=0.0, head_length=0.0, fc='k', ec='k',lw=3,alpha=0.3)\n",
    "ax.arrow(0,0,3,0,head_width=0.0, head_length=0.0, fc='k', ec='k',lw=3,alpha=0.3)\n",
    "ax.arrow(0,3,3,0,head_width=0.0, head_length=0.0, fc='k', ec='k',lw=3,alpha=0.3)\n",
    "ax.arrow(3,0,0,3,head_width=0.0, head_length=0.0, fc='k', ec='k',lw=3,alpha=0.3)\n",
    "\n",
    "ax.arrow(0,0,1,3.5,head_width=0.0, head_length=0.0, fc='r', ec='r',lw=2,alpha=1)\n",
    "ax.arrow(0,0,3.5,1,head_width=0.0, head_length=0.0, fc='r', ec='r',lw=2,alpha=1)\n",
    "ax.arrow(1,3.5,3.5,1,head_width=0.0, head_length=0.0, fc='r', ec='r',lw=2,alpha=1)\n",
    "ax.arrow(3.5,1,1,3.5,head_width=0.0, head_length=0.0, fc='r', ec='r',lw=2,alpha=1)\n",
    "\n",
    "\n",
    "txtfont = {'family': 'serif','color':  'b','weight': 'normal','size': 12}\n",
    "ax.add_patch(Arc((0, 0), 2, 2, angle=75.0, theta1=0.0, theta2=15.0, edgecolor='b'))\n",
    "ax.add_patch(Arc((0, 0), 2, 2, angle=0.0, theta1=0.0, theta2=15.0, edgecolor='b'))\n",
    "plt.text(0.8,1, '$\\\\frac{\\\\alpha + \\\\beta}{2}$', fontdict=txtfont)\n",
    "ax.arrow(0.7,1.2,-0.4,0,head_width=0.1, head_length=0.15, fc='b', ec='b',lw=1,alpha=1)\n",
    "ax.arrow(1.2,0.7,0,-0.4,head_width=0.1, head_length=0.15, fc='b', ec='b',lw=1,alpha=1)\n",
    "\n",
    "\n",
    "plt.axis('off')"
   ]
  },
  {
   "cell_type": "markdown",
   "metadata": {},
   "source": [
    "Now back to Mohr's circle for strain: when we use Mohr's circle we are really doing a set of mathematical operations and therefore (to be consistent) we need to use the mathematical definition of shear strain. So, when drawing Mohr's circle we should be drawing the vertical axis using $\\epsilon_{xy} = \\gamma_{xy}/2$ and when calculating we should use:\n",
    "\n",
    "$\\epsilon_{11} = \\frac{\\left(\\epsilon_{xx} + \\epsilon_{yy}\\right)}{2} + \\frac{\\left(\\epsilon_{xx} - \\epsilon_{yy}\\right)}{2}\\cos{\\left(2\\theta\\right)} + \\epsilon_{xy}\\sin{\\left(2\\theta\\right)}$\n",
    "\n",
    "$\\epsilon_{22} = \\frac{\\left(\\epsilon_{xx} + \\epsilon_{yy}\\right)}{2} - \\frac{\\left(\\epsilon_{xx} - \\epsilon_{yy}\\right)}{2}\\cos{\\left(2\\theta\\right)} - \\epsilon_{xy}\\sin{\\left(2\\theta\\right)}$\n",
    "\n",
    "$\\epsilon_{12} = \\frac{\\left(\\epsilon_{xx} - \\epsilon_{yy}\\right)}{2}\\sin{\\left(2\\theta\\right)} + \\epsilon_{xy}\\cos{\\left(2\\theta\\right)} $\n",
    "\n",
    "Or, as it is often written, in terms of engineering shear strain:\n",
    "\n",
    "$\\epsilon_{11} = \\frac{\\left(\\epsilon_{xx} + \\epsilon_{yy}\\right)}{2} + \\frac{\\left(\\epsilon_{xx} - \\epsilon_{yy}\\right)}{2}\\cos{\\left(2\\theta\\right)} + \\frac{\\gamma_{xy}}{2}\\sin{\\left(2\\theta\\right)}$\n",
    "\n",
    "$\\epsilon_{22} = \\frac{\\left(\\epsilon_{xx} + \\epsilon_{yy}\\right)}{2} - \\frac{\\left(\\epsilon_{xx} - \\epsilon_{yy}\\right)}{2}\\cos{\\left(2\\theta\\right)} - \\frac{\\gamma_{xy}}{2}\\sin{\\left(2\\theta\\right)}$\n",
    "\n",
    "$\\frac{\\gamma_{xy}}{2} = -\\frac{\\left(\\epsilon_{xx} - \\epsilon_{yy}\\right)}{2}\\sin{\\left(2\\theta\\right)} - \\frac{\\gamma_{xy}}{2}\\cos{\\left(2\\theta\\right)} $\n",
    "\n"
   ]
  },
  {
   "cell_type": "code",
   "execution_count": null,
   "metadata": {
    "collapsed": true
   },
   "outputs": [],
   "source": []
  }
 ],
 "metadata": {
  "kernelspec": {
   "display_name": "Python 3",
   "language": "python",
   "name": "python3"
  },
  "language_info": {
   "codemirror_mode": {
    "name": "ipython",
    "version": 3
   },
   "file_extension": ".py",
   "mimetype": "text/x-python",
   "name": "python",
   "nbconvert_exporter": "python",
   "pygments_lexer": "ipython3",
   "version": "3.6.2"
  }
 },
 "nbformat": 4,
 "nbformat_minor": 2
}
