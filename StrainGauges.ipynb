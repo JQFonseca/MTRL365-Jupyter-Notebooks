{
 "cells": [
  {
   "cell_type": "code",
   "execution_count": 1,
   "metadata": {},
   "outputs": [
    {
     "data": {
      "text/html": [
       "<script>\n",
       "code_show=true; \n",
       "function code_toggle() {\n",
       " if (code_show){\n",
       " $('div.input').hide();\n",
       " } else {\n",
       " $('div.input').show();\n",
       " }\n",
       " code_show = !code_show\n",
       "} \n",
       "$( document ).ready(code_toggle);\n",
       "</script>\n",
       "The raw code for this IPython notebook is by default hidden for easier reading.\n",
       "To toggle on/off the raw code, click <a href=\"javascript:code_toggle()\">here</a>."
      ],
      "text/plain": [
       "<IPython.core.display.HTML object>"
      ]
     },
     "execution_count": 1,
     "metadata": {},
     "output_type": "execute_result"
    }
   ],
   "source": [
    "from IPython.display import HTML\n",
    "from __future__ import print_function\n",
    "import numpy as np\n",
    "from bqplot import *\n",
    "from ipywidgets import widgets, interact, Label\n",
    "from traitlets import link\n",
    "from traitlets import HasTraits, Float\n",
    "import matplotlib.pyplot as plt\n",
    "from scipy.linalg import eigvalsh\n",
    "from IPython.display import display\n",
    "from matplotlib import rcParams\n",
    " \n",
    "rcParams['font.family'] = 'serif'\n",
    "rcParams['font.size'] = 16\n",
    "\n",
    "HTML('''<script>\n",
    "code_show=true; \n",
    "function code_toggle() {\n",
    " if (code_show){\n",
    " $('div.input').hide();\n",
    " } else {\n",
    " $('div.input').show();\n",
    " }\n",
    " code_show = !code_show\n",
    "} \n",
    "$( document ).ready(code_toggle);\n",
    "</script>\n",
    "The raw code for this IPython notebook is by default hidden for easier reading.\n",
    "To toggle on/off the raw code, click <a href=\"javascript:code_toggle()\">here</a>.''')\n"
   ]
  },
  {
   "cell_type": "markdown",
   "metadata": {},
   "source": [
    "## Using Mohr's Circle to Find the Strains and Stresses on the Surface of a Strain Gauged Part"
   ]
  },
  {
   "cell_type": "markdown",
   "metadata": {},
   "source": [
    "Strain gauge rosettes are normally placed on the surface of a part in order to record the (small, typically elastic) strains on that part.  These strain gauges are made up of fine metallic wires whose electrical resistance changes when they are stretched.  This change in electrical resistance can then be calibrated to a change in *normal* strain (e.g. $\\epsilon_{xx}$).  Strain gauges *can't* directly measure shear strains but by measuring three normal strains on the surface of a part, with the angle between the strain gauges known, we can obtain the full (2D) strain tensor for the surface of the part.\n",
    "\n",
    "Let's take an example to illustrate.  In order to talk about strains, we must have (at least) one coordinate system - here we will draw an {x,y} coordinate system which is imagined to sit on the free surface of a part."
   ]
  },
  {
   "cell_type": "code",
   "execution_count": 2,
   "metadata": {},
   "outputs": [
    {
     "data": {
      "text/plain": [
       "(-6.5, 6.5, -1.0, 6.5)"
      ]
     },
     "execution_count": 2,
     "metadata": {},
     "output_type": "execute_result"
    },
    {
     "data": {
      "image/png": "[encoded data removed]",
      "text/plain": [
       "<matplotlib.figure.Figure at 0x7f2eeb2a4898>"
      ]
     },
     "metadata": {},
     "output_type": "display_data"
    }
   ],
   "source": [
    "from IPython.display import display\n",
    "import numpy as np\n",
    "from ipywidgets import *\n",
    "import matplotlib.pyplot as plt\n",
    "\n",
    "from matplotlib.patches import Arc, Rectangle\n",
    "\n",
    "plt.figure()\n",
    "plt.axis('image')\n",
    "ax = plt.gca() \n",
    "ax.arrow(0,0,0,5,head_width=0.1, head_length=0.15, fc='k', ec='k',lw=1,alpha=1)\n",
    "ax.arrow(0,0,5,0,head_width=0.1, head_length=0.15, fc='k', ec='k',lw=1,alpha=1)\n",
    "ax.arrow(0,0,4,4,head_width=0.1, head_length=0.15, fc='r', ec='r',lw=1,alpha=1)\n",
    "ax.arrow(0,0,-4,4,head_width=0.1, head_length=0.15, fc='r', ec='r',lw=1,alpha=1)\n",
    "\n",
    "ax.set_xlim(-6.5,6.5)\n",
    "ax.set_ylim(-1,6.5)\n",
    "txtfont = {'family': 'serif','color':  'k','weight': 'normal','size': 10}\n",
    "plt.text(-0.1,5.5, '$y$', fontdict=txtfont)\n",
    "plt.text(5.3,-0.05, '$x$', fontdict=txtfont)\n",
    "txtfont = {'family': 'serif','color':  'r','weight': 'normal','size': 10}\n",
    "plt.text(4.2,4.2, '$1$', fontdict=txtfont)\n",
    "plt.text(-4.5,4.2, '$2$', fontdict=txtfont)\n",
    "\n",
    "\n",
    "ax.arrow(0,0,0,3.5,head_width=0.0, head_length=0.0, fc='r', ec='r',lw=3,alpha=0.3)\n",
    "ax.add_patch(Rectangle((2.5, -0.5), 2, 1, angle=0.0, fill=True, edgecolor='b'))\n",
    "ax.add_patch(Rectangle((2.5, 1.75), 2, 1, angle=45.0, fill=True, edgecolor='b'))\n",
    "ax.add_patch(Rectangle((0.5, 2.5), 2, 1, angle=90.0, fill=True, edgecolor='b'))\n",
    "\n",
    "txtfont = {'family': 'serif','color':  'b','weight': 'normal','size': 12}\n",
    "ax.add_patch(Arc((0, 0), 7, 7, angle=0.0, theta1=0.0, theta2=45.0, edgecolor='b'))\n",
    "ax.add_patch(Arc((0, 0), 7, 7, angle=45.0, theta1=0.0, theta2=45.0, edgecolor='b'))\n",
    "plt.text(2.5,1, '$\\\\theta$', fontdict=txtfont)\n",
    "plt.text(1,2.5, '$\\\\theta$', fontdict=txtfont)\n",
    "\n",
    "txtfont = {'family': 'serif','color':  'w','weight': 'normal','size': 12}\n",
    "plt.text(4,-0.2, 'A', fontdict=txtfont)\n",
    "plt.text(3,3, 'B', fontdict=txtfont)\n",
    "plt.text(-0.25,4, 'C', fontdict=txtfont)\n",
    "\n",
    "plt.axis('off')\n",
    "\n"
   ]
  },
  {
   "cell_type": "markdown",
   "metadata": {},
   "source": [
    "Here we have three strain gauges (the blue rectangles) located at $\\theta$ = 45$^\\circ$ from one another.  We have aligned strain gauges A and C with the {$x$,$y$} coordinate system.  Thus, strain gauge A will measure the normal strain ($\\epsilon^A_{xx}$) along the $x$ direction in this coordinate system and strain gauge C will measure the normal strain ($\\epsilon^C_{yy}$) along the $y$ direction in this coordinate system.\n",
    "\n",
    "Strain gauge B does not align with either of the $x$ or $y$ directions so how the normal strain it measures relates to the strains in the {$x$,$y$} coordinate system is not immediately obvious.  However, we can draw a second coordinate system, the {$1$,$2$} which does align with strain gauge B.  In this case, the normal strain measured by strain gauge B ($\\epsilon^B_{11}$) is along the $1$ direction.\n",
    "\n",
    "Now, we have 2/3's of the information we need in order to define all of our (2 dimensional) strains in this case, aligned with the {$x$,$y$} coordinate system.  All we miss is the shear strain $\\epsilon_{xy}$ which can't be measured directly by a strain gauge (remember, strain gauges only measure normal strains).  \n",
    "\n",
    "To determine $\\epsilon_{xy}$ we need to make use of Mohr's circle and the three measured strains.  Remember, Mohr's circle (and the associated equations representing it) allow us to relate the strains in one coordinate system to the strains in another coordinate system; here we can relate the strain measured aligned with the {$1$,$2$} coordinate system to the strains measured aligned with the {$x$,$y$} coordinate system.\n",
    "\n",
    "Remember that Mohr's circle tells us that our normal strains in two coordinate systems are related by:\n",
    "\n",
    "$\\epsilon_{11} = \\frac{\\left(\\epsilon_{xx} + \\epsilon_{yy}\\right)}{2} + \\frac{\\left(\\epsilon_{xx} - \\epsilon_{yy}\\right)}{2}\\cos{\\left(2\\theta\\right)} + \\epsilon_{xy}\\sin{\\left(2\\theta\\right)}$\n",
    "\n",
    "Looking at this equation we can see that we know $\\epsilon_{11} = \\epsilon^B_{11}$, $\\epsilon_{xx} = \\epsilon^A_{xx}$, $\\epsilon_{yy} = \\epsilon^C_{yy}$ and $\\theta$ = 45$^\\circ$, the angle between the coordinate systems.\n",
    "\n",
    "The case shown above is particularly simple since $2\\theta$ = 90$^\\circ$ so $\\cos{\\left(2\\theta\\right)}$ = 0 and $\\sin{\\left(2\\theta\\right)}$ = 1 meaning that,\n",
    "\n",
    "$\\epsilon^B_{11} = \\frac{\\left(\\epsilon^A_{xx} + \\epsilon^C_{yy}\\right)}{2} + \\epsilon_{xy}$\n",
    "\n",
    "Or,\n",
    "\n",
    "$\\epsilon_{xy} = \\epsilon^B_{11} - \\frac{\\left(\\epsilon^A_{xx} + \\epsilon^C_{yy}\\right)}{2}$\n",
    "\n",
    "if we want the engineering shear strain ($\\gamma_{xy}$) we just have to remember that $\\epsilon_{xy} = \\gamma_{xy}/2$ so that,\n",
    "\n",
    "$\\gamma_{xy} = 2\\epsilon^B_{11} - \\epsilon^A_{xx} - \\epsilon^C_{yy}$\n",
    "\n",
    "Now we know all three strains in the {$x$,$y$} coordinate system ($\\epsilon^A_{xx}$, $\\epsilon^C_{yy}$ and $\\epsilon_{xy}$) so we can find the strains resolved along any other coordinate system we want using Mohr's circle!\n",
    "\n",
    "Of course, these results are not limited to having the strain gauges oriented 45$^\\circ$ apart from one another.  There are many other common 'rosette' strategies (e.g. 3 gauges each 120$^\\circ$ apart).  To deal with the case of 3 strain gauges at different angles from one another we need to imagine each of them being aligned with their own coordinate system and then relating these to a reference {$x$,$y$} coordinate system.  In the figure below you can position the three strain gauges at different angles and input different measured values of the strain for each gauge.  The output on the far right then shows the values of the strains $\\epsilon_{xx}$, $\\epsilon_{yy}$ and $\\epsilon_{xy}$ (aligned with the {$x$,$y$} coordinate system) calculated from $\\epsilon_{A}$, $\\epsilon_{B}$ and $\\epsilon_{C}$.  \n"
   ]
  },
  {
   "cell_type": "code",
   "execution_count": 3,
   "metadata": {},
   "outputs": [
    {
     "data": {
      "application/vnd.jupyter.widget-view+json": {
       "model_id": "75af5ff515964f99be7601ce6b58efa2",
       "version_major": 2,
       "version_minor": 0
      },
      "text/plain": [
       "A Jupyter Widget"
      ]
     },
     "metadata": {},
     "output_type": "display_data"
    }
   ],
   "source": [
    "from IPython.display import display\n",
    "import numpy as np\n",
    "from ipywidgets import *\n",
    "import matplotlib.pyplot as plt\n",
    "from matplotlib.patches import Arc, Rectangle\n",
    "\n",
    "def calcstrain(th1,th2,th3,eA,eB,eC):\n",
    "\n",
    "    th1 = th1*np.pi/180.\n",
    "    th2 = th2*np.pi/180.\n",
    "    th3 = th3*np.pi/180.\n",
    "    \n",
    "    eabc = np.transpose(np.matrix([eA,eB,eC]))\n",
    "    \n",
    "    M = np.matrix([[0.5*((1+np.cos(2.*th1))), 0.5*((1-np.cos(2.*th1))), np.sin(2.*th1)],\n",
    "                   [0.5*((1+np.cos(2.*th2))), 0.5*((1-np.cos(2.*th2))), np.sin(2.*th2)],\n",
    "                   [0.5*((1+np.cos(2.*th3))), 0.5*((1-np.cos(2.*th3))), np.sin(2.*th3)]])\n",
    "    \n",
    "    Minv = np.linalg.inv(M)\n",
    "    e = np.dot(Minv,eabc)\n",
    "    \n",
    "    plt.figure()\n",
    "    plt.axis('image')\n",
    "    ax = plt.gca() \n",
    "\n",
    "    txtfont = {'family': 'serif','color':  'k','weight': 'normal','size': 18}\n",
    "    plt.text(-0.06,0.04,'Calculation of Strains in {$x$,$y$} Coordinate System', fontdict=txtfont)\n",
    "    txtfont = {'family': 'serif','color':  'k','weight': 'normal','size': 18}\n",
    "    plt.text(-0.06,-0.01, '$ \\\\epsilon_{xx}$ = %0.3f\\n $\\\\epsilon_{yy}$ = %0.3f\\n $\\\\epsilon_{xy}$ = %0.3f' %(e[0,0],e[1,0],e[2,0]), fontdict=txtfont)\n",
    "    plt.axis('off')\n",
    "    \n",
    "    txtfont = {'family': 'serif','color':  'k','weight': 'normal','size': 16}\n",
    "    plt.text(-0.06,-0.04, 'Recall:  When $\\\\theta_{Ax}$=0$^\\circ$,$\\\\theta_{Bx}$=45$^\\circ$ and $\\\\theta_{Ax}$=90$^\\circ$',fontdict=txtfont)\n",
    "    plt.text(-0.06,-0.06, '$\\epsilon_{xx}$ = $\\epsilon_{A}$ \\n $\\epsilon_{yy}$ = $\\epsilon_{C}$',fontdict=txtfont)\n",
    "    plt.text(-0.06,-0.07, '$\\epsilon_{xy}$ = $\\epsilon_{B}$-($\\epsilon_{A}$+$\\epsilon_{C}$)/2',fontdict=txtfont)\n",
    "             \n",
    "             #, $\\epsilon_{yy}$ = $\\epsilon_{C}$') #and $\\epsilon_{xy}$ = $\\epsilon_{B}-\\left(\\epsilon_{A}+\\epsilon_{C}\\right)/2$',fontdict=txtfont)\n",
    "    \n",
    "    return(e[0,0],e[1,0],e[2,0])\n",
    "\n",
    "\n",
    "def straingaugeangle(th1,th2,th3,eA,eB,eC):\n",
    "    th1 = th1*np.pi/180\n",
    "    th2 = th2*np.pi/180\n",
    "    th3 = th3*np.pi/180\n",
    "    \n",
    "    eabc = np.transpose(np.matrix([eA,eB,eC]))\n",
    "    \n",
    "    angle = [th1,th2,th3]\n",
    "    \n",
    "    vx = np.matrix([5.,0.])\n",
    "    vy = np.matrix([0.,5.])\n",
    "    \n",
    "\n",
    "    plt.figure()\n",
    "    plt.axis('image')\n",
    "    ax = plt.gca() \n",
    " \n",
    "    ax.arrow(0,0,0,5,head_width=0.1, head_length=0.15, fc='k', ec='k',lw=1,alpha=1)\n",
    "    ax.arrow(0,0,5,0,head_width=0.1, head_length=0.15, fc='k', ec='k',lw=1,alpha=1)\n",
    "    \n",
    "    i = 0\n",
    "    col=['r','b','g']\n",
    "    lab=['A','B','C']\n",
    "    \n",
    "    for x in angle:\n",
    "        th = x\n",
    "        R = np.matrix([[np.cos(th),-np.sin(th)],[np.sin(th),np.cos(th)]])\n",
    "        vv1 = np.dot(R,np.transpose(vx))\n",
    "        ax.arrow(0,0,vv1[0,0],vv1[1,0],head_width=0.1, head_length=0.15, fc=col[i], ec=col[i],lw=1,alpha=1)\n",
    "        transx = vv1[1,0]*0.1\n",
    "        transy = -vv1[0,0]*0.1\n",
    "        ax.add_patch(Rectangle((vv1[0,0]*0.5+transx, vv1[1,0]*0.5+transy), 2, 1, angle=th*180/np.pi, fill=True, edgecolor=col[i],facecolor=col[i]))\n",
    "        \n",
    "        txtfont = {'family': 'serif','color':  col[i],'weight': 'normal','size': 12}\n",
    "        plt.text(vv1[0,0]+transx,vv1[1,0]+transy, lab[i], fontdict=txtfont)\n",
    "        i=i+1\n",
    "    \n",
    "    ax.set_xlim(-6.5,6.5)\n",
    "    ax.set_ylim(-6.5,6.5)\n",
    "    txtfont = {'family': 'serif','color':  'k','weight': 'normal','size': 10}\n",
    "    plt.text(-0.1,5.5, '$y$', fontdict=txtfont)\n",
    "    plt.text(5.3,-0.05, '$x$', fontdict=txtfont)\n",
    "    plt.axis('off')\n",
    "    \n",
    "    \n",
    "w = dict(th1 = BoundedFloatText(0, min=-180, max=180, step=1., description='$\\\\theta_{Ax}$ (Deg.):',layout=Layout(width='99%')), \n",
    "         th2 = BoundedFloatText(45, min=-180, max=180, step=1., description='$\\\\theta_{Bx}$ (Deg.):',layout=Layout(width='99%')),\n",
    "         th3 = BoundedFloatText(90, min=-180, max=180, step=1., description='$\\\\theta_{Cx}$(Deg.):',layout=Layout(width='99%')),\n",
    "         eA = BoundedFloatText(0, min=-0.1, max=0.1, step=1., description='$\\epsilon_A$:',layout=Layout(width='99%')),\n",
    "         eB = BoundedFloatText(0, min=-0.1, max=0.1, step=1., description='$\\epsilon_B$:',layout=Layout(width='99%')),\n",
    "         eC = BoundedFloatText(0, min=-0.1, max=0.1, step=1., description='$\\epsilon_C$:',layout=Layout(width='99%')))\n",
    "\n",
    "output = interactive_output(straingaugeangle, w)\n",
    "output2 = interactive_output(calcstrain,w)\n",
    "\n",
    "box = HBox([VBox([*w.values()]), output,output2],border='solid 2px')\n",
    "display(box)"
   ]
  },
  {
   "cell_type": "markdown",
   "metadata": {},
   "source": [
    "But how do we calculate the values of $\\epsilon_{xx}$, $\\epsilon_{yy}$ and $\\epsilon_{xy}$ shown on the far right?\n",
    "\n",
    "Lets go back to our Mohr's circle equation relating a normal strain along an axis (in this case the 'A' axis) and the normal strains in another coordinate system (in this case the {$x$,$y$} coordinate system).\n",
    "\n",
    "$\\epsilon_{A} = \\frac{\\left(\\epsilon_{xx} + \\epsilon_{yy}\\right)}{2} + \\frac{\\left(\\epsilon_{xx} - \\epsilon_{yy}\\right)}{2}\\cos{\\left(2\\theta_{Ax}\\right)} + \\epsilon_{xy}\\sin{\\left(2\\theta_{Ax}\\right)}$\n",
    "\n",
    "Here we know $\\epsilon_{A}$ (measured from the strain gauge) and $\\theta_Ax$, the angle between the $x$ axis and the 'A' axis.  Our unknowns are the three strains $\\epsilon_{xx}$, $\\epsilon_{yy}$ and $\\epsilon_{xy}$.  So at this point we have 1 equation and 3 unknowns.  We can, however, write the same equations for the other two measured strains $\\epsilon_B$ and $\\epsilon_C$:\n",
    "\n",
    "$\\epsilon_{B} = \\frac{\\left(\\epsilon_{xx} + \\epsilon_{yy}\\right)}{2} + \\frac{\\left(\\epsilon_{xx} - \\epsilon_{yy}\\right)}{2}\\cos{\\left(2\\theta_{Bx}\\right)} + \\epsilon_{xy}\\sin{\\left(2\\theta_{Bx}\\right)}$\n",
    "\n",
    "$\\epsilon_{C} = \\frac{\\left(\\epsilon_{xx} + \\epsilon_{yy}\\right)}{2} + \\frac{\\left(\\epsilon_{xx} - \\epsilon_{yy}\\right)}{2}\\cos{\\left(2\\theta_{Cx}\\right)} + \\epsilon_{xy}\\sin{\\left(2\\theta_{Cx}\\right)}$\n",
    "\n",
    "Now we have 3 equations for our 3 unknowns!"
   ]
  },
  {
   "cell_type": "markdown",
   "metadata": {},
   "source": [
    "Written as we have them above, the equations are not obvious to solve.  Let's isolate our three unknown strains:\n",
    "\n",
    "$\\epsilon_{A} = \\epsilon_{xx}\\left(\\frac{1}{2}+\\frac{\\cos{\\left(2\\theta_{Ax}\\right)}}{2}\\right)+\\epsilon_{yy}\\left(\\frac{1}{2}-\\frac{\\cos{\\left(2\\theta_{Ax}\\right)}}{2}\\right) + \\epsilon_{xy}\\sin{\\left(2\\theta_{Ax}\\right)}$\n",
    "\n",
    "$\\epsilon_{B} = \\epsilon_{xx}\\left(\\frac{1}{2}+\\frac{\\cos{\\left(2\\theta_{Bx}\\right)}}{2}\\right)+\\epsilon_{yy}\\left(\\frac{1}{2}-\\frac{\\cos{\\left(2\\theta_{Bx}\\right)}}{2}\\right) + \\epsilon_{xy}\\sin{\\left(2\\theta_{Bx}\\right)}$\n",
    "\n",
    "$\\epsilon_{C} = \\epsilon_{xx}\\left(\\frac{1}{2}+\\frac{\\cos{\\left(2\\theta_{Cx}\\right)}}{2}\\right)+\\epsilon_{yy}\\left(\\frac{1}{2}-\\frac{\\cos{\\left(2\\theta_{Cx}\\right)}}{2}\\right) + \\epsilon_{xy}\\sin{\\left(2\\theta_{Cx}\\right)}$\n",
    "\n"
   ]
  },
  {
   "cell_type": "markdown",
   "metadata": {},
   "source": [
    "This is a linear set of equations where the coefficients coming after $\\epsilon_{xx}$, $\\epsilon_{yy}$ and $\\epsilon_{xy}$ are just constants.  One can solve this algebraically by hand but if you have a scientific calculator nearby there is an easier way...\n",
    "\n",
    "Lets re-write this whole thing as a matrix equation:\n",
    "\n",
    "$\\begin{pmatrix}\n",
    "  \\epsilon_A  \\\\\n",
    "  \\epsilon_B  \\\\\n",
    "  \\epsilon_C \n",
    " \\end{pmatrix} = \n",
    " \\begin{pmatrix}\n",
    "  \\left(\\frac{1}{2}+\\frac{\\cos{\\left(2\\theta_{Ax}\\right)}}{2}\\right) & \\left(\\frac{1}{2}-\\frac{\\cos{\\left(2\\theta_{Ax}\\right)}}{2}\\right) & \\sin{\\left(2\\theta_{Ax}\\right)}\\\\\n",
    "    \\left(\\frac{1}{2}+\\frac{\\cos{\\left(2\\theta_{Bx}\\right)}}{2}\\right) & \\left(\\frac{1}{2}-\\frac{\\cos{\\left(2\\theta_{Bx}\\right)}}{2}\\right) & \\sin{\\left(2\\theta_{Bx}\\right)}\\\\\n",
    "      \\left(\\frac{1}{2}+\\frac{\\cos{\\left(2\\theta_{Cx}\\right)}}{2}\\right) & \\left(\\frac{1}{2}-\\frac{\\cos{\\left(2\\theta_{Cx}\\right)}}{2}\\right) & \\sin{\\left(2\\theta_{Cx}\\right)}\\\\\n",
    " \\end{pmatrix} \n",
    " \\begin{pmatrix}\n",
    "  \\epsilon_{xx}  \\\\\n",
    "  \\epsilon_{yy}  \\\\\n",
    "  \\epsilon_{xy} \n",
    " \\end{pmatrix} = \\textbf{M}  \n",
    " \\begin{pmatrix}\n",
    "  \\epsilon_{xx}  \\\\\n",
    "  \\epsilon_{yy}  \\\\\n",
    "  \\epsilon_{xy} \n",
    " \\end{pmatrix}$\n",
    " \n",
    " Where $\\textbf{M}$ is a matrix whose entries are all calculated just by knowing the angles $\\theta_{Ax}$, $\\theta_{Bx}$ and $\\theta_{Cx}$.  "
   ]
  },
  {
   "cell_type": "markdown",
   "metadata": {},
   "source": [
    "Now, one way to obtain the values of the unknown strains is to invert this system of equations by multiplying both sides of the equation by the matrix inverse of $\\textbf{M}$ (this being written as $\\textbf{M$^{-1}$}$)\n",
    "\n",
    "$\\begin{pmatrix}\n",
    "  \\epsilon_{xx}  \\\\\n",
    "  \\epsilon_{yy}  \\\\\n",
    "  \\epsilon_{xy} \n",
    " \\end{pmatrix} =\n",
    "\\textbf{M$^{-1}$} \n",
    "\\begin{pmatrix}\n",
    "  \\epsilon_A  \\\\\n",
    "  \\epsilon_B  \\\\\n",
    "  \\epsilon_C \n",
    " \\end{pmatrix}$\n",
    " \n",
    " Inverting the matrix $\\textbf{M}$ is easy to do with most modern scientific calculators (or using a program like python or matlab...)"
   ]
  },
  {
   "cell_type": "markdown",
   "metadata": {},
   "source": [
    "# Calculating Stresses Assuming Isotropic Elastic Behaviour"
   ]
  },
  {
   "cell_type": "markdown",
   "metadata": {},
   "source": [
    "Now that we have our strains on the surface of our material, we may wish to calculate the stresses in our part.  Strain gauges are normally bonded to the free surface of a part meaning that the stress perpendicular to the surface is zero.  We, can, however, determine the stresses in the plane of the part ($\\sigma_{xx}$, $\\sigma_{yy}$ and $\\sigma_{xy}$) using our knowledge of linear elasticity."
   ]
  },
  {
   "cell_type": "markdown",
   "metadata": {},
   "source": [
    "From generalized Hooke's Law we have for the normal strains:\n",
    "\n",
    "$\\epsilon_{ii} = \\frac{1}{E}\\left[\\sigma_{ii} - \\nu\\left(\\sigma_{jj}+\\sigma_{kk}\\right)\\right]$\n",
    "\n",
    "where $i,j,k$ represent the directions $x$, $y$ and $z$ with $z$ being normal to the free surface.  Now, since on our free surface $\\sigma_{zz}$ = 0 we have:\n",
    "\n",
    "$\\epsilon_{xx} = \\frac{1}{E}\\left[\\sigma_{xx} - \\nu\\left(\\sigma_{yy}\\right)\\right]$\n",
    "\n",
    "$\\epsilon_{yy} = \\frac{1}{E}\\left[\\sigma_{yy} - \\nu\\left(\\sigma_{xx}\\right)\\right]$"
   ]
  },
  {
   "cell_type": "markdown",
   "metadata": {},
   "source": [
    "If you re-arrange these equations you have:\n",
    "    \n",
    "$\\sigma_{xx} = \\frac{E}{\\left(1-\\nu^2\\right)}\\left(\\epsilon_{xx}+\\nu\\epsilon_{yy}\\right)$\n",
    "\n",
    "$\\sigma_{yy} = \\frac{E}{\\left(1-\\nu^2\\right)}\\left(\\epsilon_{yy}+\\nu\\epsilon_{xx}\\right)$"
   ]
  },
  {
   "cell_type": "markdown",
   "metadata": {},
   "source": [
    "We can also calculate the shear stress $\\sigma_{xy}$ directly,\n",
    "\n",
    "$\\sigma_{xy} = G\\gamma_{xy} = G\\left( 2\\epsilon_{xy}\\right)$\n",
    "\n",
    "Becareful here!  Hooke's Law makes use of the engineering definition of shear strain in its simplest form"
   ]
  },
  {
   "cell_type": "markdown",
   "metadata": {},
   "source": [
    "But we aren't quite done... while there can be no stress normal to a free surface, there can be a strain.  Of course we can't align a strain gauge to measure strains in the $z$ direction, but we can use Hooke's Law to provide the $z$ strain.  Lets look at our equation for $\\epsilon_{zz}$"
   ]
  },
  {
   "cell_type": "markdown",
   "metadata": {},
   "source": [
    "$\\epsilon_{zz} =  \\frac{\\nu}{E}\\left[\\sigma_{xx} + \\sigma_{yy}\\right]$\n",
    "              =  $\\frac{\\nu\\left(1+\\nu\\right)}{1-\\nu^2}\\left[\\epsilon_{xx}+\\epsilon_{yy}\\right]$"
   ]
  },
  {
   "cell_type": "markdown",
   "metadata": {},
   "source": [
    "We have no information to tell us about the possible values of the shear strains $\\epsilon_{xz}$ and $\\epsilon_{yz}$.\n",
    "\n",
    "With this information we can increase our predictions about the mechanical state of the material.  Returning to those calculations we can now add our stresses and the value of our additional strain:"
   ]
  },
  {
   "cell_type": "code",
   "execution_count": 4,
   "metadata": {},
   "outputs": [
    {
     "data": {
      "application/vnd.jupyter.widget-view+json": {
       "model_id": "c6d85dc208aa419a987beeb71b2fec13",
       "version_major": 2,
       "version_minor": 0
      },
      "text/plain": [
       "A Jupyter Widget"
      ]
     },
     "metadata": {},
     "output_type": "display_data"
    }
   ],
   "source": [
    "def f(th1,th2,th3,eA,eB,eC,E,v):\n",
    "    \n",
    "    E = E*1.e3\n",
    "    G = E/(2*v)\n",
    "    th1 = th1*np.pi/180.\n",
    "    th2 = th2*np.pi/180.\n",
    "    th3 = th3*np.pi/180.\n",
    "    \n",
    "    eabc = np.transpose(np.matrix([eA,eB,eC]))\n",
    "    \n",
    "    M = np.matrix([[0.5*((1+np.cos(2.*th1))), 0.5*((1-np.cos(2.*th1))), np.sin(2.*th1)],\n",
    "                   [0.5*((1+np.cos(2.*th2))), 0.5*((1-np.cos(2.*th2))), np.sin(2.*th2)],\n",
    "                   [0.5*((1+np.cos(2.*th3))), 0.5*((1-np.cos(2.*th3))), np.sin(2.*th3)]])\n",
    "    \n",
    "    Minv = np.linalg.inv(M)\n",
    "    e = np.dot(Minv,eabc)\n",
    "    \n",
    "    ezz = (v+v**2)/(1-v**2)*(e[0,0]+e[1,0])\n",
    "    sxx = E/(1-v**2)*(e[0,0]+v*e[1,0])\n",
    "    syy = E/(1-v**2)*(e[1,0]+v*e[0,0])\n",
    "    sxy = G*(2*e[2,0])\n",
    "    \n",
    "    plt.figure()\n",
    "    plt.axis('image')\n",
    "    ax = plt.gca() \n",
    "\n",
    "    txtfont = {'family': 'serif','color':  'k','weight': 'normal','size': 16}\n",
    "    plt.text(-0.06,0.04,'Calculation of Stresses & Strains in {$x$,$y$} Coordinate System \\n Using strain gauge angles and strains from interactive box above:', fontdict=txtfont)\n",
    "    txtfont = {'family': 'serif','color':  'k','weight': 'normal','size': 16}\n",
    "    plt.text(-0.06,-0.01, '$ \\\\epsilon_{xx}$ = %0.3f\\n $\\\\epsilon_{yy}$ = %0.3f\\n $\\\\epsilon_{xy}$ = %0.3f' %(e[0,0],e[1,0],e[2,0]), fontdict=txtfont)\n",
    "    \n",
    "    txtfont = {'family': 'serif','color':  'r','weight': 'normal','size': 16}\n",
    "    plt.text(-0.06,-0.04, '$ \\\\epsilon_{zz}$ = %0.3f\\n' %(ezz), fontdict=txtfont)\n",
    "    plt.text(-0.06,-0.07, '$ \\\\sigma_{xx}$ = %0.0f MPa \\n $\\\\sigma_{yy}$ = %0.0f MPa\\n $\\\\sigma_{xy}$ = %0.0f MPa' %(sxx,syy,sxy), fontdict=txtfont)\n",
    "    \n",
    "    plt.axis('off')\n",
    "    \n",
    "       \n",
    "    return(e[0,0],e[1,0],e[2,0],ezz,sxx,syy,sxy)\n",
    "\n",
    "\n",
    "def f2(th1,th2,th3,eA,eB,eC,E,v): \n",
    "    plt.figure()\n",
    "    plt.axis('image')\n",
    "    ax = plt.gca() \n",
    "\n",
    "    txtfont = {'family': 'serif','color':  'k','weight': 'normal','size': 16}\n",
    "    plt.text(-0.06,0.04,'Strain gauge angles and strains \\n from interactive box above:', fontdict=txtfont)\n",
    "    txtfont = {'family': 'serif','color':  'k','weight': 'normal','size': 16}\n",
    "    plt.text(-0.06,-0.0, '$ \\\\theta_{A}$ = %0.1f\\n $\\\\theta_{B}$ = %0.1f\\n $\\\\theta_{C}$ = %0.1f' %(w['th1'].value,w['th2'].value,w['th3'].value), fontdict=txtfont)\n",
    "    plt.text(-0.06,-0.04, '$ \\\\epsilon_{A}$ = %0.3f\\n $\\\\epsilon_{B}$ = %0.3f\\n $\\\\epsilon_{C}$ = %0.3f' %(w['eA'].value,w['eB'].value,w['eC'].value), fontdict=txtfont)\n",
    "\n",
    "    plt.axis('off')\n",
    "    \n",
    "\n",
    "\n",
    "\n",
    "    \n",
    "ww = dict(th1=w['th1'],\n",
    "          th2=w['th2'],\n",
    "          th3=w['th3'],\n",
    "          eA=w['eA'],\n",
    "          eB=w['eB'],\n",
    "          eC=w['eC'],\n",
    "          E = BoundedFloatText(100, min=0, max=10000, step=1., description='E (GPa):',layout=Layout(width='100%')),\n",
    "          v = BoundedFloatText(0.3, min=0, max=1, step=0.1, description='$\\\\nu$:',layout=Layout(width='100%')))\n",
    "\n",
    "out=widgets.interactive_output(f,ww)\n",
    "out2=widgets.interactive_output(f2,ww)\n",
    "\n",
    "box = HBox([out2,output,out],border='solid 2px')\n",
    "#box = HBox([VBox([*ww.values()]), output,out],border='solid 2px')\n",
    "display(box)"
   ]
  },
  {
   "cell_type": "code",
   "execution_count": 5,
   "metadata": {},
   "outputs": [
    {
     "data": {
      "text/plain": [
       "0.0"
      ]
     },
     "execution_count": 5,
     "metadata": {},
     "output_type": "execute_result"
    }
   ],
   "source": [
    "ww['th1'].value"
   ]
  },
  {
   "cell_type": "code",
   "execution_count": null,
   "metadata": {
    "collapsed": true
   },
   "outputs": [],
   "source": []
  }
 ],
 "metadata": {
  "kernelspec": {
   "display_name": "Python 3",
   "language": "python",
   "name": "python3"
  },
  "language_info": {
   "codemirror_mode": {
    "name": "ipython",
    "version": 3
   },
   "file_extension": ".py",
   "mimetype": "text/x-python",
   "name": "python",
   "nbconvert_exporter": "python",
   "pygments_lexer": "ipython3",
   "version": "3.6.2"
  }
 },
 "nbformat": 4,
 "nbformat_minor": 2
}
