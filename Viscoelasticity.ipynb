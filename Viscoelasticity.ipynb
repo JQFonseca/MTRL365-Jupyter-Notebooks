{
 "cells": [
  {
   "cell_type": "markdown",
   "metadata": {},
   "source": [
    "# Viscoelasticity"
   ]
  },
  {
   "cell_type": "code",
   "execution_count": 7,
   "metadata": {},
   "outputs": [
    {
     "data": {
      "text/html": [
       "<script>\n",
       "code_show=true; \n",
       "function code_toggle() {\n",
       " if (code_show){\n",
       " $('div.input').hide();\n",
       " } else {\n",
       " $('div.input').show();\n",
       " }\n",
       " code_show = !code_show\n",
       "} \n",
       "$( document ).ready(code_toggle);\n",
       "</script>\n",
       "The raw code for this IPython notebook is by default hidden for easier reading.\n",
       "To toggle on/off the raw code, click <a href=\"javascript:code_toggle()\">here</a>."
      ],
      "text/plain": [
       "<IPython.core.display.HTML object>"
      ]
     },
     "execution_count": 7,
     "metadata": {},
     "output_type": "execute_result"
    }
   ],
   "source": [
    "from IPython.display import HTML\n",
    "from __future__ import print_function\n",
    "import numpy as np\n",
    "from bqplot import *\n",
    "from ipywidgets import widgets, interact, Label\n",
    "from traitlets import link\n",
    "from traitlets import HasTraits, Float\n",
    "import matplotlib.pyplot as plt\n",
    "from scipy.linalg import eigvalsh\n",
    "from IPython.display import display\n",
    "from matplotlib import rcParams\n",
    " \n",
    "rcParams['font.family'] = 'serif'\n",
    "rcParams['font.size'] = 16\n",
    "\n",
    "HTML('''<script>\n",
    "code_show=true; \n",
    "function code_toggle() {\n",
    " if (code_show){\n",
    " $('div.input').hide();\n",
    " } else {\n",
    " $('div.input').show();\n",
    " }\n",
    " code_show = !code_show\n",
    "} \n",
    "$( document ).ready(code_toggle);\n",
    "</script>\n",
    "The raw code for this IPython notebook is by default hidden for easier reading.\n",
    "To toggle on/off the raw code, click <a href=\"javascript:code_toggle()\">here</a>.''')\n",
    "\n"
   ]
  },
  {
   "cell_type": "markdown",
   "metadata": {},
   "source": [
    "## Kelvin-Voight Model"
   ]
  },
  {
   "cell_type": "markdown",
   "metadata": {},
   "source": [
    "In purely a purely elastic material, the deformation is completely reversible and described (in 1-D) by Hooke's Law\n",
    "\n",
    "$\\sigma = E\\epsilon$\n",
    "\n",
    "This represents 'spring' like behaviour."
   ]
  },
  {
   "cell_type": "markdown",
   "metadata": {},
   "source": [
    "In reality all real materials have some degree of irreversibility in their behaviour.  In the case of a material like a fluid the behaviour is completely irreversible.  In this limit the deformation is referred to as viscous, the simplest version of viscous flow being Newtonian,\n",
    "\n",
    "$\\sigma = \\eta \\frac{d\\epsilon}{dt} $"
   ]
  },
  {
   "cell_type": "markdown",
   "metadata": {},
   "source": [
    "where $d\\epsilon/dt$ is known as the strain rate and is often written as $\\dot{\\epsilon}$.  The material parameter $\\eta$ is the viscosity, having units of Pa$\\cdot$s.  While reversible elastic deformation is referred to as 'spring-like' the viscous behaviour represented above is often related to a mechanical [dashpot.](https://en.wikipedia.org/wiki/Dashpot)"
   ]
  },
  {
   "cell_type": "markdown",
   "metadata": {},
   "source": [
    "In reality, most (solid) materials fall somewhere in between the above to limits; partly elastic (reversible) and partly viscous (irreversible). To be able to predict the behaviour of such materials we often take to combining the above two models.  The simpliest way to do so is to imagine the behaviour happening in parallel ([Kelvin-Voight model](https://en.wikipedia.org/wiki/Kelvin–Voigt_material)) or in series ([Maxwell model](https://en.wikipedia.org/wiki/Maxwell_material)).  \n"
   ]
  },
  {
   "cell_type": "code",
   "execution_count": 8,
   "metadata": {},
   "outputs": [
    {
     "data": {
      "image/png": "[encoded data removed]",
      "text/plain": [
       "<Figure size 432x288 with 2 Axes>"
      ]
     },
     "metadata": {
      "needs_background": "light"
     },
     "output_type": "display_data"
    }
   ],
   "source": [
    "from IPython.display import display\n",
    "import numpy as np\n",
    "from ipywidgets import *\n",
    "import matplotlib.pyplot as plt\n",
    "\n",
    "from matplotlib.patches import Arc, Rectangle\n",
    "\n",
    "#plt.figure()\n",
    "plt.subplot(1, 2, 1)\n",
    "\n",
    "plt.axis('image')\n",
    "ax = plt.gca() \n",
    "ax.arrow(-0.04,0.04,0.08,0,head_width=0.0, head_length=0.0, fc='k', ec='k',lw=1,alpha=1)\n",
    "ax.arrow(-0.04,0.04,0,-0.04,head_width=0.0, head_length=0.0, fc='r', ec='k',lw=1,alpha=1)\n",
    "ax.arrow(0.04,0.04,0,-0.04,head_width=0.0, head_length=0.0, fc='k', ec='k',lw=1,alpha=1)\n",
    "\n",
    "# Dashpot\n",
    "ax.arrow(0.035,-0.005,0.01,0,head_width=0.0, head_length=0.0, fc='k', ec='k',lw=1,alpha=1)\n",
    "ax.arrow(0.035,-0.005,0,0.01,head_width=0.0, head_length=0.0, fc='k', ec='k',lw=1,alpha=1)\n",
    "ax.arrow(0.045,-0.005,0,0.01,head_width=0.0, head_length=0.0, fc='k', ec='k',lw=1,alpha=1)\n",
    "\n",
    "ax.arrow(0.04,-0.005,0,-0.04,head_width=0.0, head_length=0.0, fc='k', ec='k',lw=1,alpha=1)\n",
    "\n",
    "#spring\n",
    "ax.arrow(-0.04,0.,-0.005,-0.005,head_width=0.0, head_length=0.0, fc='k', ec='k',lw=1,alpha=1)\n",
    "ax.arrow(-0.045,-0.005,0.01,-0.005,head_width=0.0, head_length=0.0, fc='k', ec='k',lw=1,alpha=1)\n",
    "ax.arrow(-0.035,-0.01,-0.01,-0.005,head_width=0.0, head_length=0.0, fc='k', ec='k',lw=1,alpha=1)\n",
    "ax.arrow(-0.045,-0.015,0.005,-0.005,head_width=0.0, head_length=0.0, fc='k', ec='k',lw=1,alpha=1)\n",
    "\n",
    "\n",
    "ax.arrow(-0.04,-0.02,0,-0.025,head_width=0.0, head_length=0.0, fc='k', ec='k',lw=1,alpha=1)\n",
    "ax.arrow(-0.04,-0.045,0.08,0,head_width=0.0, head_length=0.0, fc='k', ec='k',lw=1,alpha=1)\n",
    "\n",
    "ax.arrow(0,-0.045,0.0,-0.01,head_width=0.005, head_length=0.01, fc='k', ec='k',lw=1,alpha=1)\n",
    "ax.arrow(0,0.04,0.0,0.01,head_width=0.005, head_length=0.01, fc='k', ec='k',lw=1,alpha=1)\n",
    "\n",
    "txtfont = {'family': 'serif','color':  'k','weight': 'normal','size': 12}\n",
    "plt.text(-0.03,-0.01, 'Spring', fontdict=txtfont)\n",
    "plt.text(-0.005,0.01, 'Dashpot', fontdict=txtfont)\n",
    "\n",
    "\n",
    "txtfont = {'family': 'serif','color':  'b','weight': 'normal','size': 14}\n",
    "plt.text(-0.06,0.07, 'Kelvin-Voight Model', fontdict=txtfont)\n",
    "\n",
    "ax.set_xlim(-0.07,0.07)\n",
    "ax.set_ylim(-0.07,0.09)\n",
    "plt.axis('off')\n",
    "\n",
    "plt.subplot(1, 2, 2)\n",
    "plt.axis('image')\n",
    "ax = plt.gca() \n",
    "ax.arrow(0,0.04,0.0,0.02,head_width=0.01, head_length=0.01, fc='k', ec='k',lw=1,alpha=1)\n",
    "ax.arrow(0,0.04,0,-0.01,head_width=0.0, head_length=0.0, fc='k', ec='k',lw=1,alpha=1)\n",
    "\n",
    "#Dashpot\n",
    "ax.arrow(-0.01,0.02,0.02,0,head_width=0.0, head_length=0.0, fc='k', ec='k',lw=1,alpha=1)\n",
    "ax.arrow(-0.01,0.02,0,0.01,head_width=0.0, head_length=0.0, fc='k', ec='k',lw=1,alpha=1)\n",
    "ax.arrow(0.01,0.02,0,0.01,head_width=0.0, head_length=0.0, fc='k', ec='k',lw=1,alpha=1)\n",
    "\n",
    "ax.arrow(0,0.02,0,-0.02,head_width=0.0, head_length=0.0, fc='k', ec='k',lw=1,alpha=1)\n",
    "\n",
    "ax.arrow(0,0.,-0.01,-0.005,head_width=0.0, head_length=0.0, fc='k', ec='k',lw=1,alpha=1)\n",
    "ax.arrow(-0.01,-0.005,0.02,-0.01,head_width=0.0, head_length=0.0, fc='k', ec='k',lw=1,alpha=1)\n",
    "ax.arrow(0.01,-0.015,-0.01,-0.005,head_width=0.0, head_length=0.0, fc='k', ec='k',lw=1,alpha=1)\n",
    "\n",
    "ax.arrow(0,-0.02,0.0,-0.03,head_width=0.01, head_length=0.01, fc='k', ec='k',lw=1,alpha=1)\n",
    "\n",
    "txtfont = {'family': 'serif','color':  'k','weight': 'normal','size': 14}\n",
    "plt.text(0.02,0.02, r'$\\sigma = \\eta \\dot{\\epsilon}$', fontdict=txtfont)\n",
    "plt.text(0.02,-0.02, r'$\\sigma = E \\epsilon$', fontdict=txtfont)\n",
    "\n",
    "\n",
    "txtfont = {'family': 'serif','color':  'b','weight': 'normal','size': 14}\n",
    "plt.text(-0.05,0.075, 'Maxwell Model', fontdict=txtfont)\n",
    "\n",
    "ax.set_xlim(-0.07,0.07)\n",
    "ax.set_ylim(-0.07,0.09)\n",
    "\n",
    "plt.axis('off')\n",
    "plt.tight_layout()"
   ]
  },
  {
   "cell_type": "markdown",
   "metadata": {},
   "source": [
    "In the Kelvin-Voight model stress and strain are applied with the springand dashpot in parallel.  In this case the strains in the spring and dashpot are the same and the overall applied stress is equal to the sum of the stress in the two:\n",
    "\n",
    "$\\epsilon = \\epsilon_{spring} = \\epsilon_{dashpot}$\n",
    "\n",
    "$\\sigma = \\sigma_{spring} + \\sigma_{dashpot} = E\\epsilon + \\eta \\dot{\\epsilon}$"
   ]
  },
  {
   "cell_type": "markdown",
   "metadata": {},
   "source": [
    "In the case of the Maxwell model the opposite is true:  Stresses are equal everywhere and the total strain is the sum of the strains in the two elements,\n",
    "\n",
    "$\\epsilon = \\epsilon_{spring} + \\epsilon_{dashpot}$\n",
    "\n",
    "$\\sigma = \\sigma_{spring} = \\sigma_{dashpot}$"
   ]
  },
  {
   "cell_type": "markdown",
   "metadata": {
    "collapsed": true
   },
   "source": [
    "Let's follow the Kelvin-Voight model.  Unlike pure linear elasticity (which is indpendent on how fast deformation is imposed) the K-V model predicts that the stress will be higher, the higher the rate of deformation.  Let's imagine a situation where we instantaneously load a 'Kelvin-Voight' material to a fixed level of imposed stress $\\sigma$.  In a linear elastic (Hooke's Law) material the strain would instantaneously respond as $\\epsilon$ = $\\sigma/E$.  However, in the K-V case, the very high strain rate would lead to a very high stress.  Rather, what happens in this case is that the strain builds progressively, with the strain eventually reaching a constant value (meaning $\\dot{\\epsilon} = 0$) and $\\epsilon_{\\infty} = \\sigma/E$."
   ]
  },
  {
   "cell_type": "markdown",
   "metadata": {},
   "source": [
    "Let's re-arrange our equation for the stress, to solve for the rate of change of the strain rate,\n",
    "\n",
    "$\\frac{d\\epsilon}{dt} = \\dot{\\epsilon} =\\frac{1}{\\eta}\\left(\\sigma - E\\epsilon\\right)$"
   ]
  },
  {
   "cell_type": "markdown",
   "metadata": {},
   "source": [
    "If we bring our (imposed) stress outside of the brackets, we end up with:\n",
    "\n",
    "$\\frac{d\\epsilon}{dt}=\\frac{\\sigma}{\\eta}\\left(1 - \\frac{E}{\\sigma}\\epsilon\\right) = \\frac{\\sigma}{\\eta}\\left(1 - \\frac{\\epsilon}{\\epsilon_{\\infty}}\\right)$\n",
    "\n",
    "For fixed $\\sigma$ and $\\epsilon_{\\infty} = \\sigma/E$ where can re-arrange and integrate to solve for $\\epsilon\\left(t\\right)$.\n",
    "\n",
    "$\\int_{\\epsilon_0}^{\\epsilon_1}\\frac{d\\epsilon}{\\left(1 - \\frac{\\epsilon}{\\epsilon_{\\infty}}\\right)} = \\int_{t_0}^{t_1}\\frac{\\sigma}{\\eta}dt$"
   ]
  },
  {
   "cell_type": "markdown",
   "metadata": {},
   "source": [
    "If we take $\\epsilon_0$ = 0 and $\\epsilon_1$ = $\\epsilon$ with correspondingly, $t_0 = 0$ and $t_1$ = $t$ then we can integrate giving,\n",
    "\n",
    "$\\epsilon = 1-\\epsilon_\\infty\\exp{\\left(-\\frac{\\sigma}{\\eta}t\\right)}$"
   ]
  },
  {
   "cell_type": "markdown",
   "metadata": {},
   "source": [
    "Try out the prediction of the Kelvin-Voight Model by setting the material properties $E$ and $\\eta$ and imposing a stress ($\\sigma$) at time is equal to zero. See how the strain develops with time.\n",
    "\n",
    "Material '1' corresponds to the blue curve in the plot below.  The x and y axes scale with the position of this curve.  Material '2' corresponds to the red curve.  The axes do not scale to keep this curve on the graph."
   ]
  },
  {
   "cell_type": "code",
   "execution_count": 16,
   "metadata": {
    "scrolled": false
   },
   "outputs": [
    {
     "data": {
      "application/vnd.jupyter.widget-view+json": {
       "model_id": "37d2c9555d304ca79d431c56c2f827cd",
       "version_major": 2,
       "version_minor": 0
      },
      "text/plain": [
       "VBox(children=(HBox(children=(BoundedFloatText(value=100.0, description='$E_1$ (MPa):', layout=Layout(width='9…"
      ]
     },
     "metadata": {},
     "output_type": "display_data"
    }
   ],
   "source": [
    "from IPython.display import display\n",
    "#import numpy as np\n",
    "from ipywidgets import *\n",
    "#import matplotlib.pyplot as plt\n",
    "from bqplot import *\n",
    "from bqplot import pyplot as plt\n",
    "#from matplotlib.patches import Arc, Rectangle\n",
    "from traitlets import link\n",
    "\n",
    "def ep(E,eta,sig):\n",
    "    \n",
    "    tau = eta/sig\n",
    "    epinf = sig/E\n",
    "    t=np.linspace(0,8.*tau,100)\n",
    "    \n",
    "    ep = epinf*(1-np.exp(-t/tau))\n",
    "    return [t,ep]\n",
    "    \n",
    "def paramchange(change):\n",
    "    \n",
    "    displace=ep(w['E'].value,w['eta'].value,w['sig'].value)\n",
    "    pltep.x=displace[0]\n",
    "    pltep.y=displace[1]\n",
    "    displace2=ep(w2['E2'].value,w2['eta2'].value,w2['sig2'].value)\n",
    "    pltep2.x=displace2[0]\n",
    "    pltep2.y=displace2[1]\n",
    "    \n",
    "    tau=w['eta'].value/w['sig'].value\n",
    "    einf=w['sig'].value/w['E'].value\n",
    "    \n",
    "    plt.xlim(0,np.max(displace[0]))\n",
    "    plt.ylim(0,np.max(displace[1]))\n",
    "    \n",
    "    \n",
    "    \n",
    "w = dict(E = BoundedFloatText(100, min=0.1, max=10000, step=1., description= '$E_1$ (MPa):',layout=Layout(width='99%')), \n",
    "         eta = BoundedFloatText(1, min=0, max=1e6, step=1., description='$\\eta_1$ (MPa s):',layout=Layout(width='99%')),\n",
    "         sig = BoundedFloatText(0.1, min=1e-6, max=1e6, step=1., description='$\\sigma_1$ (MPa):',layout=Layout(width='99%')))\n",
    "         \n",
    "w2 = dict(E2 = BoundedFloatText(100, min=0.1, max=10000, step=1., description='$E_2$ (MPa):',layout=Layout(width='99%')), \n",
    "         eta2 = BoundedFloatText(1, min=0, max=1e6, step=1., description='$\\eta_2$ (MPa s):',layout=Layout(width='99%')),\n",
    "         sig2 = BoundedFloatText(0.1, min=1e-6, max=1e6, step=1., description='$\\sigma_2$ (MPa):',layout=Layout(width='99%')))\n",
    "    \n",
    "output = interactive_output(ep, w)\n",
    "output2 = interactive_output(ep, w)\n",
    "\n",
    "fig = plt.figure(figsize=(5, 5),animation_duration=1000)\n",
    "\n",
    "\n",
    "tau= w['eta'].value/w['sig'].value\n",
    "einf=w['sig'].value/w['E'].value\n",
    "\n",
    "t=np.linspace(0,10.*w['eta'].value/w['sig'].value,100)\n",
    "\n",
    "pltep = plt.plot(ep(w['E'].value,w['eta'].value,w['sig'].value)[0],ep(w['E'].value,w['eta'].value,w['sig'].value)[1]) #,stroke_width=w['h'].value*1e3)\n",
    "pltep2 = plt.plot(ep(w2['E2'].value,w2['eta2'].value,w2['sig2'].value)[0],ep(w2['E2'].value,w2['eta2'].value,w2['sig2'].value)[1],colors=['red']) #,stroke_width=w2['h2'].value*1e3,colors=['red'])\n",
    "\n",
    "\n",
    "fig.layout.height = '5in'\n",
    "fig.layout.width = '8in'\n",
    "plt.xlim(0,10*tau)\n",
    "#plt.ylim(0,einf*1.05)\n",
    "plt.xlabel('time (s)')\n",
    "plt.ylabel('Strain')\n",
    "\n",
    "box = VBox([HBox([*w.values()]), HBox([*w2.values()]), HBox([fig])])\n",
    "#box = VBox([HBox([*w.values()]), fig])*w2.values()])])\n",
    "#box = HBox([VBox([*w.values()]), fig],border='solid 2px')\n",
    "\n",
    "display(box)\n",
    "\n",
    "w['E'].observe(paramchange,'value')\n",
    "w['eta'].observe(paramchange,'value')\n",
    "w['sig'].observe(paramchange,'value')\n",
    "\n",
    "\n",
    "w2['E2'].observe(paramchange,'value')\n",
    "w2['eta2'].observe(paramchange,'value')\n",
    "w2['sig2'].observe(paramchange,'value')\n",
    "\n",
    "\n"
   ]
  },
  {
   "cell_type": "code",
   "execution_count": null,
   "metadata": {},
   "outputs": [],
   "source": []
  },
  {
   "cell_type": "code",
   "execution_count": null,
   "metadata": {},
   "outputs": [],
   "source": []
  }
 ],
 "metadata": {
  "kernelspec": {
   "display_name": "Python 3",
   "language": "python",
   "name": "python3"
  },
  "language_info": {
   "codemirror_mode": {
    "name": "ipython",
    "version": 3
   },
   "file_extension": ".py",
   "mimetype": "text/x-python",
   "name": "python",
   "nbconvert_exporter": "python",
   "pygments_lexer": "ipython3",
   "version": "3.6.6"
  }
 },
 "nbformat": 4,
 "nbformat_minor": 2
}
